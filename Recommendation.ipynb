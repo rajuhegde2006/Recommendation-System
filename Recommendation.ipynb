{
  "nbformat": 4,
  "nbformat_minor": 0,
  "metadata": {
    "colab": {
      "name": "Recommendation.ipynb",
      "provenance": []
    },
    "kernelspec": {
      "name": "python3",
      "display_name": "Python 3"
    }
  },
  "cells": [
    {
      "cell_type": "code",
      "metadata": {
        "id": "5Olu_olMC6oW",
        "colab_type": "code",
        "colab": {}
      },
      "source": [
        "#Necessary imports\n",
        "import pandas as pd\n",
        "import numpy as np\n",
        "import seaborn as sns\n",
        "from sklearn.preprocessing import LabelEncoder\n",
        "from sklearn.model_selection import train_test_split\n",
        "from xgboost import XGBClassifier\n",
        "from sklearn.metrics import accuracy_score\n",
        "from sklearn.metrics import f1_score\n",
        "import time"
      ],
      "execution_count": null,
      "outputs": []
    },
    {
      "cell_type": "code",
      "metadata": {
        "id": "-v3dhARSDRuP",
        "colab_type": "code",
        "colab": {}
      },
      "source": [
        "user_df = pd.read_csv(r'/content/user_data.csv')\n",
        "problem_df = pd.read_csv(r'/content/problem_data.csv')\n",
        "train_submussion_df = pd.read_csv(r'/content/train_submissions.csv')\n",
        "test_submussion_df = pd.read_csv(r'/content/test_submissions_NeDLEvX.csv')"
      ],
      "execution_count": null,
      "outputs": []
    },
    {
      "cell_type": "code",
      "metadata": {
        "id": "_8aTVGruElXm",
        "colab_type": "code",
        "colab": {
          "base_uri": "https://localhost:8080/",
          "height": 224
        },
        "outputId": "bac6cad0-aaf8-4ee9-9206-5d404c45e4a2"
      },
      "source": [
        "#lets look at the sample data for each of the data frame. Sample data for user data\n",
        "user_df.head()"
      ],
      "execution_count": null,
      "outputs": [
        {
          "output_type": "execute_result",
          "data": {
            "text/html": [
              "<div>\n",
              "<style scoped>\n",
              "    .dataframe tbody tr th:only-of-type {\n",
              "        vertical-align: middle;\n",
              "    }\n",
              "\n",
              "    .dataframe tbody tr th {\n",
              "        vertical-align: top;\n",
              "    }\n",
              "\n",
              "    .dataframe thead th {\n",
              "        text-align: right;\n",
              "    }\n",
              "</style>\n",
              "<table border=\"1\" class=\"dataframe\">\n",
              "  <thead>\n",
              "    <tr style=\"text-align: right;\">\n",
              "      <th></th>\n",
              "      <th>user_id</th>\n",
              "      <th>submission_count</th>\n",
              "      <th>problem_solved</th>\n",
              "      <th>contribution</th>\n",
              "      <th>country</th>\n",
              "      <th>follower_count</th>\n",
              "      <th>last_online_time_seconds</th>\n",
              "      <th>max_rating</th>\n",
              "      <th>rating</th>\n",
              "      <th>rank</th>\n",
              "      <th>registration_time_seconds</th>\n",
              "    </tr>\n",
              "  </thead>\n",
              "  <tbody>\n",
              "    <tr>\n",
              "      <th>0</th>\n",
              "      <td>user_3311</td>\n",
              "      <td>47</td>\n",
              "      <td>40</td>\n",
              "      <td>0</td>\n",
              "      <td>NaN</td>\n",
              "      <td>4</td>\n",
              "      <td>1504111645</td>\n",
              "      <td>348.337</td>\n",
              "      <td>330.849</td>\n",
              "      <td>intermediate</td>\n",
              "      <td>1466686436</td>\n",
              "    </tr>\n",
              "    <tr>\n",
              "      <th>1</th>\n",
              "      <td>user_3028</td>\n",
              "      <td>63</td>\n",
              "      <td>52</td>\n",
              "      <td>0</td>\n",
              "      <td>India</td>\n",
              "      <td>17</td>\n",
              "      <td>1498998165</td>\n",
              "      <td>405.677</td>\n",
              "      <td>339.450</td>\n",
              "      <td>intermediate</td>\n",
              "      <td>1441893325</td>\n",
              "    </tr>\n",
              "    <tr>\n",
              "      <th>2</th>\n",
              "      <td>user_2268</td>\n",
              "      <td>226</td>\n",
              "      <td>203</td>\n",
              "      <td>-8</td>\n",
              "      <td>Egypt</td>\n",
              "      <td>24</td>\n",
              "      <td>1505566052</td>\n",
              "      <td>307.339</td>\n",
              "      <td>284.404</td>\n",
              "      <td>beginner</td>\n",
              "      <td>1454267603</td>\n",
              "    </tr>\n",
              "    <tr>\n",
              "      <th>3</th>\n",
              "      <td>user_480</td>\n",
              "      <td>611</td>\n",
              "      <td>490</td>\n",
              "      <td>1</td>\n",
              "      <td>Ukraine</td>\n",
              "      <td>94</td>\n",
              "      <td>1505257499</td>\n",
              "      <td>525.803</td>\n",
              "      <td>471.330</td>\n",
              "      <td>advanced</td>\n",
              "      <td>1350720417</td>\n",
              "    </tr>\n",
              "    <tr>\n",
              "      <th>4</th>\n",
              "      <td>user_650</td>\n",
              "      <td>504</td>\n",
              "      <td>479</td>\n",
              "      <td>12</td>\n",
              "      <td>Russia</td>\n",
              "      <td>4</td>\n",
              "      <td>1496613433</td>\n",
              "      <td>548.739</td>\n",
              "      <td>486.525</td>\n",
              "      <td>advanced</td>\n",
              "      <td>1395560498</td>\n",
              "    </tr>\n",
              "  </tbody>\n",
              "</table>\n",
              "</div>"
            ],
            "text/plain": [
              "     user_id  submission_count  ...          rank  registration_time_seconds\n",
              "0  user_3311                47  ...  intermediate                 1466686436\n",
              "1  user_3028                63  ...  intermediate                 1441893325\n",
              "2  user_2268               226  ...      beginner                 1454267603\n",
              "3   user_480               611  ...      advanced                 1350720417\n",
              "4   user_650               504  ...      advanced                 1395560498\n",
              "\n",
              "[5 rows x 11 columns]"
            ]
          },
          "metadata": {
            "tags": []
          },
          "execution_count": 249
        }
      ]
    },
    {
      "cell_type": "code",
      "metadata": {
        "id": "09z3T9s9Elaj",
        "colab_type": "code",
        "colab": {
          "base_uri": "https://localhost:8080/",
          "height": 221
        },
        "outputId": "d2f71a9b-bce1-4672-fdae-7018469a9cf0"
      },
      "source": [
        "#count of null values\n",
        "user_df.isna().sum()"
      ],
      "execution_count": null,
      "outputs": [
        {
          "output_type": "execute_result",
          "data": {
            "text/plain": [
              "user_id                         0\n",
              "submission_count                0\n",
              "problem_solved                  0\n",
              "contribution                    0\n",
              "country                      1153\n",
              "follower_count                  0\n",
              "last_online_time_seconds        0\n",
              "max_rating                      0\n",
              "rating                          0\n",
              "rank                            0\n",
              "registration_time_seconds       0\n",
              "dtype: int64"
            ]
          },
          "metadata": {
            "tags": []
          },
          "execution_count": 250
        }
      ]
    },
    {
      "cell_type": "code",
      "metadata": {
        "id": "avUhoPUtElc1",
        "colab_type": "code",
        "colab": {
          "base_uri": "https://localhost:8080/",
          "height": 221
        },
        "outputId": "2960af6c-2e2b-4e69-9c7b-1684d1b93dab"
      },
      "source": [
        "#percentage of null values\n",
        "user_df.isnull().mean()"
      ],
      "execution_count": null,
      "outputs": [
        {
          "output_type": "execute_result",
          "data": {
            "text/plain": [
              "user_id                      0.000000\n",
              "submission_count             0.000000\n",
              "problem_solved               0.000000\n",
              "contribution                 0.000000\n",
              "country                      0.322879\n",
              "follower_count               0.000000\n",
              "last_online_time_seconds     0.000000\n",
              "max_rating                   0.000000\n",
              "rating                       0.000000\n",
              "rank                         0.000000\n",
              "registration_time_seconds    0.000000\n",
              "dtype: float64"
            ]
          },
          "metadata": {
            "tags": []
          },
          "execution_count": 251
        }
      ]
    },
    {
      "cell_type": "code",
      "metadata": {
        "id": "gGdbjCllEle8",
        "colab_type": "code",
        "colab": {}
      },
      "source": [
        "#creating bins for submission counts\n",
        "submission_count_bins = pd.qcut(user_df[\"submission_count\"], 4,labels = False)\n",
        "\n",
        "#creating the new column for quantiled submission count\n",
        "user_df[\"submission_count_bins\"] = submission_count_bins.values"
      ],
      "execution_count": null,
      "outputs": []
    },
    {
      "cell_type": "code",
      "metadata": {
        "id": "aGUrbDBkElhP",
        "colab_type": "code",
        "colab": {
          "base_uri": "https://localhost:8080/",
          "height": 299
        },
        "outputId": "9703fc43-ed52-4cb1-cdee-9d09d4835cbf"
      },
      "source": [
        "#Let's have a look at the distribution for submission count bins\n",
        "sns.distplot(user_df[\"submission_count_bins\"])"
      ],
      "execution_count": null,
      "outputs": [
        {
          "output_type": "execute_result",
          "data": {
            "text/plain": [
              "<matplotlib.axes._subplots.AxesSubplot at 0x7f47fcaba278>"
            ]
          },
          "metadata": {
            "tags": []
          },
          "execution_count": 253
        },
        {
          "output_type": "display_data",
          "data": {
            "image/png": "[encoded data removed]",
            "text/plain": [
              "<Figure size 432x288 with 1 Axes>"
            ]
          },
          "metadata": {
            "tags": [],
            "needs_background": "light"
          }
        }
      ]
    },
    {
      "cell_type": "code",
      "metadata": {
        "id": "z1tBYgJhEljc",
        "colab_type": "code",
        "colab": {
          "base_uri": "https://localhost:8080/",
          "height": 297
        },
        "outputId": "1c9823c4-1199-4f53-f663-d2a7b10a3780"
      },
      "source": [
        "#plotting problem solved counts\n",
        "sns.distplot(user_df[\"problem_solved\"])"
      ],
      "execution_count": null,
      "outputs": [
        {
          "output_type": "execute_result",
          "data": {
            "text/plain": [
              "<matplotlib.axes._subplots.AxesSubplot at 0x7f47fcaba390>"
            ]
          },
          "metadata": {
            "tags": []
          },
          "execution_count": 254
        },
        {
          "output_type": "display_data",
          "data": {
            "image/png": "[encoded data removed]",
            "text/plain": [
              "<Figure size 432x288 with 1 Axes>"
            ]
          },
          "metadata": {
            "tags": [],
            "needs_background": "light"
          }
        }
      ]
    },
    {
      "cell_type": "code",
      "metadata": {
        "id": "JVGew_L0Ellq",
        "colab_type": "code",
        "colab": {
          "base_uri": "https://localhost:8080/",
          "height": 102
        },
        "outputId": "eb111a6b-65ab-4c1c-eed1-91c98a8703e7"
      },
      "source": [
        "#plotting problem solved counts\n",
        "user_df['problem_solved'].quantile([.2, .4,.6, .8])"
      ],
      "execution_count": null,
      "outputs": [
        {
          "output_type": "execute_result",
          "data": {
            "text/plain": [
              "0.2     40.0\n",
              "0.4    100.0\n",
              "0.6    207.0\n",
              "0.8    422.0\n",
              "Name: problem_solved, dtype: float64"
            ]
          },
          "metadata": {
            "tags": []
          },
          "execution_count": 255
        }
      ]
    },
    {
      "cell_type": "code",
      "metadata": {
        "id": "w_Yfr8MEElpY",
        "colab_type": "code",
        "colab": {}
      },
      "source": [
        "#quantiling the problem solved counts\n",
        "problem_solved_bins = pd.qcut(user_df[\"problem_solved\"], 5,labels = False)\n",
        "\n",
        "#creating bins for problem solved counts\n",
        "user_df[\"problem_solved_bins\"] = problem_solved_bins.values"
      ],
      "execution_count": null,
      "outputs": []
    },
    {
      "cell_type": "code",
      "metadata": {
        "id": "ynO0NnUZElsL",
        "colab_type": "code",
        "colab": {
          "base_uri": "https://localhost:8080/",
          "height": 297
        },
        "outputId": "8a2ded0a-fd04-44af-f9e5-6c69bcc2dd83"
      },
      "source": [
        "#let's look at the distribution of the problem solved bins\n",
        "sns.distplot(user_df[\"problem_solved_bins\"])"
      ],
      "execution_count": null,
      "outputs": [
        {
          "output_type": "execute_result",
          "data": {
            "text/plain": [
              "<matplotlib.axes._subplots.AxesSubplot at 0x7f47fc97cda0>"
            ]
          },
          "metadata": {
            "tags": []
          },
          "execution_count": 257
        },
        {
          "output_type": "display_data",
          "data": {
            "image/png": "[encoded data removed]",
            "text/plain": [
              "<Figure size 432x288 with 1 Axes>"
            ]
          },
          "metadata": {
            "tags": [],
            "needs_background": "light"
          }
        }
      ]
    },
    {
      "cell_type": "code",
      "metadata": {
        "id": "Gc6OwA00FC5D",
        "colab_type": "code",
        "colab": {
          "base_uri": "https://localhost:8080/",
          "height": 224
        },
        "outputId": "4ad4488c-4207-4d8d-fea0-e8ddfcd62fbe"
      },
      "source": [
        "#let's have a look at the new column for problem solved bins\n",
        "user_df.head()"
      ],
      "execution_count": null,
      "outputs": [
        {
          "output_type": "execute_result",
          "data": {
            "text/html": [
              "<div>\n",
              "<style scoped>\n",
              "    .dataframe tbody tr th:only-of-type {\n",
              "        vertical-align: middle;\n",
              "    }\n",
              "\n",
              "    .dataframe tbody tr th {\n",
              "        vertical-align: top;\n",
              "    }\n",
              "\n",
              "    .dataframe thead th {\n",
              "        text-align: right;\n",
              "    }\n",
              "</style>\n",
              "<table border=\"1\" class=\"dataframe\">\n",
              "  <thead>\n",
              "    <tr style=\"text-align: right;\">\n",
              "      <th></th>\n",
              "      <th>user_id</th>\n",
              "      <th>submission_count</th>\n",
              "      <th>problem_solved</th>\n",
              "      <th>contribution</th>\n",
              "      <th>country</th>\n",
              "      <th>follower_count</th>\n",
              "      <th>last_online_time_seconds</th>\n",
              "      <th>max_rating</th>\n",
              "      <th>rating</th>\n",
              "      <th>rank</th>\n",
              "      <th>registration_time_seconds</th>\n",
              "      <th>submission_count_bins</th>\n",
              "      <th>problem_solved_bins</th>\n",
              "    </tr>\n",
              "  </thead>\n",
              "  <tbody>\n",
              "    <tr>\n",
              "      <th>0</th>\n",
              "      <td>user_3311</td>\n",
              "      <td>47</td>\n",
              "      <td>40</td>\n",
              "      <td>0</td>\n",
              "      <td>NaN</td>\n",
              "      <td>4</td>\n",
              "      <td>1504111645</td>\n",
              "      <td>348.337</td>\n",
              "      <td>330.849</td>\n",
              "      <td>intermediate</td>\n",
              "      <td>1466686436</td>\n",
              "      <td>0</td>\n",
              "      <td>0</td>\n",
              "    </tr>\n",
              "    <tr>\n",
              "      <th>1</th>\n",
              "      <td>user_3028</td>\n",
              "      <td>63</td>\n",
              "      <td>52</td>\n",
              "      <td>0</td>\n",
              "      <td>India</td>\n",
              "      <td>17</td>\n",
              "      <td>1498998165</td>\n",
              "      <td>405.677</td>\n",
              "      <td>339.450</td>\n",
              "      <td>intermediate</td>\n",
              "      <td>1441893325</td>\n",
              "      <td>0</td>\n",
              "      <td>1</td>\n",
              "    </tr>\n",
              "    <tr>\n",
              "      <th>2</th>\n",
              "      <td>user_2268</td>\n",
              "      <td>226</td>\n",
              "      <td>203</td>\n",
              "      <td>-8</td>\n",
              "      <td>Egypt</td>\n",
              "      <td>24</td>\n",
              "      <td>1505566052</td>\n",
              "      <td>307.339</td>\n",
              "      <td>284.404</td>\n",
              "      <td>beginner</td>\n",
              "      <td>1454267603</td>\n",
              "      <td>2</td>\n",
              "      <td>2</td>\n",
              "    </tr>\n",
              "    <tr>\n",
              "      <th>3</th>\n",
              "      <td>user_480</td>\n",
              "      <td>611</td>\n",
              "      <td>490</td>\n",
              "      <td>1</td>\n",
              "      <td>Ukraine</td>\n",
              "      <td>94</td>\n",
              "      <td>1505257499</td>\n",
              "      <td>525.803</td>\n",
              "      <td>471.330</td>\n",
              "      <td>advanced</td>\n",
              "      <td>1350720417</td>\n",
              "      <td>3</td>\n",
              "      <td>4</td>\n",
              "    </tr>\n",
              "    <tr>\n",
              "      <th>4</th>\n",
              "      <td>user_650</td>\n",
              "      <td>504</td>\n",
              "      <td>479</td>\n",
              "      <td>12</td>\n",
              "      <td>Russia</td>\n",
              "      <td>4</td>\n",
              "      <td>1496613433</td>\n",
              "      <td>548.739</td>\n",
              "      <td>486.525</td>\n",
              "      <td>advanced</td>\n",
              "      <td>1395560498</td>\n",
              "      <td>3</td>\n",
              "      <td>4</td>\n",
              "    </tr>\n",
              "  </tbody>\n",
              "</table>\n",
              "</div>"
            ],
            "text/plain": [
              "     user_id  submission_count  ...  submission_count_bins  problem_solved_bins\n",
              "0  user_3311                47  ...                      0                    0\n",
              "1  user_3028                63  ...                      0                    1\n",
              "2  user_2268               226  ...                      2                    2\n",
              "3   user_480               611  ...                      3                    4\n",
              "4   user_650               504  ...                      3                    4\n",
              "\n",
              "[5 rows x 13 columns]"
            ]
          },
          "metadata": {
            "tags": []
          },
          "execution_count": 258
        }
      ]
    },
    {
      "cell_type": "code",
      "metadata": {
        "id": "4GL9rDz_FC8V",
        "colab_type": "code",
        "colab": {
          "base_uri": "https://localhost:8080/",
          "height": 34
        },
        "outputId": "fe7c63d1-1442-4f20-943e-e916fd07ec40"
      },
      "source": [
        "#looks like problem solved count bins and submission count bins are identical. So I will check them once if they are idential\n",
        "user_df['submission_count_bins'].equals(user_df['problem_solved_bins'])"
      ],
      "execution_count": null,
      "outputs": [
        {
          "output_type": "execute_result",
          "data": {
            "text/plain": [
              "False"
            ]
          },
          "metadata": {
            "tags": []
          },
          "execution_count": 259
        }
      ]
    },
    {
      "cell_type": "code",
      "metadata": {
        "id": "FvaCf2uAUoR1",
        "colab_type": "code",
        "colab": {}
      },
      "source": [
        "#define success rate as a column\n",
        "user_df['success_rate'] = user_df['problem_solved']/user_df['submission_count']*100"
      ],
      "execution_count": null,
      "outputs": []
    },
    {
      "cell_type": "code",
      "metadata": {
        "id": "QOLk43rxF35i",
        "colab_type": "code",
        "colab": {}
      },
      "source": [
        "#Getting all the ratios\n",
        "country_data = (user_df[\"country\"].value_counts()/user_df[\"country\"].count())"
      ],
      "execution_count": null,
      "outputs": []
    },
    {
      "cell_type": "code",
      "metadata": {
        "id": "y_X4YJPFFDBY",
        "colab_type": "code",
        "colab": {}
      },
      "source": [
        "#imputing missing values\n",
        "user_df[\"country\"]= user_df[\"country\"].fillna(pd.Series(np.random.choice(country_data.index,p=country_data.values, size=len(user_df))))"
      ],
      "execution_count": null,
      "outputs": []
    },
    {
      "cell_type": "markdown",
      "metadata": {
        "id": "HfiwTrdvF-_h",
        "colab_type": "text"
      },
      "source": [
        "Country is a categorical feature and there are 79 levels. I would like to keep the levels to 10. So, I will keep the first 9 countries by count and the rest of the countries will be put under \"other\""
      ]
    },
    {
      "cell_type": "code",
      "metadata": {
        "id": "rNGxu1vnGA-S",
        "colab_type": "code",
        "colab": {}
      },
      "source": [
        "country_list = user_df['country'].value_counts().index[:9]\n",
        "user_df['country_new'] = np.where(user_df['country'].isin(country_list), user_df['country'], 'Other')"
      ],
      "execution_count": null,
      "outputs": []
    },
    {
      "cell_type": "code",
      "metadata": {
        "id": "dGQQLnPvGBKv",
        "colab_type": "code",
        "colab": {
          "base_uri": "https://localhost:8080/",
          "height": 297
        },
        "outputId": "12a42112-7bce-448b-cfda-3d82f131d8c4"
      },
      "source": [
        "#Now let's look at the countries distribution\n",
        "sns.countplot(user_df[\"country_new\"])"
      ],
      "execution_count": null,
      "outputs": [
        {
          "output_type": "execute_result",
          "data": {
            "text/plain": [
              "<matplotlib.axes._subplots.AxesSubplot at 0x7f47fc930860>"
            ]
          },
          "metadata": {
            "tags": []
          },
          "execution_count": 264
        },
        {
          "output_type": "display_data",
          "data": {
            "image/png": "[encoded data removed]",
            "text/plain": [
              "<Figure size 432x288 with 1 Axes>"
            ]
          },
          "metadata": {
            "tags": [],
            "needs_background": "light"
          }
        }
      ]
    },
    {
      "cell_type": "code",
      "metadata": {
        "id": "ruKtsuFaGBNN",
        "colab_type": "code",
        "colab": {}
      },
      "source": [
        "#creating bins for submission counts\n",
        "follower_count_bins = pd.qcut(user_df[\"follower_count\"], 5,labels = False)\n",
        "#creating the new column for quantiled submission count\n",
        "user_df[\"follower_count_bins\"] = follower_count_bins.values"
      ],
      "execution_count": null,
      "outputs": []
    },
    {
      "cell_type": "code",
      "metadata": {
        "id": "b2KBKf-5GBPx",
        "colab_type": "code",
        "colab": {
          "base_uri": "https://localhost:8080/",
          "height": 297
        },
        "outputId": "4dd7afdf-d28f-4f3b-b2d6-61a70a9cde1d"
      },
      "source": [
        "#Let's have a look at the new distribution\n",
        "sns.distplot(user_df[\"follower_count_bins\"])"
      ],
      "execution_count": null,
      "outputs": [
        {
          "output_type": "execute_result",
          "data": {
            "text/plain": [
              "<matplotlib.axes._subplots.AxesSubplot at 0x7f47fc8875f8>"
            ]
          },
          "metadata": {
            "tags": []
          },
          "execution_count": 266
        },
        {
          "output_type": "display_data",
          "data": {
            "image/png": "[encoded data removed]",
            "text/plain": [
              "<Figure size 432x288 with 1 Axes>"
            ]
          },
          "metadata": {
            "tags": [],
            "needs_background": "light"
          }
        }
      ]
    },
    {
      "cell_type": "code",
      "metadata": {
        "id": "OGEllOfwGBSO",
        "colab_type": "code",
        "colab": {}
      },
      "source": [
        "#let's find the age of the user in the platform in months\n",
        "user_df[\"age_in_platform\"] = (user_df[\"last_online_time_seconds\"] - user_df[\"registration_time_seconds\"])/(24*3600*30)"
      ],
      "execution_count": null,
      "outputs": []
    },
    {
      "cell_type": "code",
      "metadata": {
        "id": "Ko6mqk8UGBUk",
        "colab_type": "code",
        "colab": {
          "base_uri": "https://localhost:8080/",
          "height": 297
        },
        "outputId": "33fd5872-075a-4e2c-8e9c-6105696cef4a"
      },
      "source": [
        "sns.distplot(user_df[\"age_in_platform\"])"
      ],
      "execution_count": null,
      "outputs": [
        {
          "output_type": "execute_result",
          "data": {
            "text/plain": [
              "<matplotlib.axes._subplots.AxesSubplot at 0x7f47fc8a2a90>"
            ]
          },
          "metadata": {
            "tags": []
          },
          "execution_count": 268
        },
        {
          "output_type": "display_data",
          "data": {
            "image/png": "[encoded data removed]",
            "text/plain": [
              "<Figure size 432x288 with 1 Axes>"
            ]
          },
          "metadata": {
            "tags": [],
            "needs_background": "light"
          }
        }
      ]
    },
    {
      "cell_type": "code",
      "metadata": {
        "id": "kjWgm_UNGBXQ",
        "colab_type": "code",
        "colab": {}
      },
      "source": [
        "#creating bins for max_rating counts\n",
        "max_rating_bins = pd.qcut(user_df[\"max_rating\"], 4,labels = False)"
      ],
      "execution_count": null,
      "outputs": []
    },
    {
      "cell_type": "code",
      "metadata": {
        "id": "J4DQaDX_FDGb",
        "colab_type": "code",
        "colab": {}
      },
      "source": [
        "#creating the new column for quantiled max_rating count\n",
        "user_df[\"max_rating_bins\"] = max_rating_bins.values"
      ],
      "execution_count": null,
      "outputs": []
    },
    {
      "cell_type": "code",
      "metadata": {
        "id": "5cOMhUEsGddC",
        "colab_type": "code",
        "colab": {
          "base_uri": "https://localhost:8080/",
          "height": 297
        },
        "outputId": "1803d89c-7c7e-42bb-b3a4-dc2561198097"
      },
      "source": [
        "#plotting max_rating counts\n",
        "sns.distplot(user_df[\"max_rating_bins\"])"
      ],
      "execution_count": null,
      "outputs": [
        {
          "output_type": "execute_result",
          "data": {
            "text/plain": [
              "<matplotlib.axes._subplots.AxesSubplot at 0x7f47fc757630>"
            ]
          },
          "metadata": {
            "tags": []
          },
          "execution_count": 271
        },
        {
          "output_type": "display_data",
          "data": {
            "image/png": "[encoded data removed]",
            "text/plain": [
              "<Figure size 432x288 with 1 Axes>"
            ]
          },
          "metadata": {
            "tags": [],
            "needs_background": "light"
          }
        }
      ]
    },
    {
      "cell_type": "code",
      "metadata": {
        "id": "OkCTsF97GdgQ",
        "colab_type": "code",
        "colab": {
          "base_uri": "https://localhost:8080/",
          "height": 119
        },
        "outputId": "e64d384f-2a80-4ab7-a871-0ba73d5518ab"
      },
      "source": [
        "user_df.columns"
      ],
      "execution_count": null,
      "outputs": [
        {
          "output_type": "execute_result",
          "data": {
            "text/plain": [
              "Index(['user_id', 'submission_count', 'problem_solved', 'contribution',\n",
              "       'country', 'follower_count', 'last_online_time_seconds', 'max_rating',\n",
              "       'rating', 'rank', 'registration_time_seconds', 'submission_count_bins',\n",
              "       'problem_solved_bins', 'success_rate', 'country_new',\n",
              "       'follower_count_bins', 'age_in_platform', 'max_rating_bins'],\n",
              "      dtype='object')"
            ]
          },
          "metadata": {
            "tags": []
          },
          "execution_count": 272
        }
      ]
    },
    {
      "cell_type": "code",
      "metadata": {
        "id": "svRwQoC7GdjD",
        "colab_type": "code",
        "colab": {}
      },
      "source": [
        "#70% values are 0, so we can drop this field\n",
        "user_df.drop(columns = [\"contribution\"],axis = 1, inplace = True)"
      ],
      "execution_count": null,
      "outputs": []
    },
    {
      "cell_type": "code",
      "metadata": {
        "id": "5zUW_zwPGdls",
        "colab_type": "code",
        "colab": {}
      },
      "source": [
        "#drop country as we have a new field for country with 'Other'\n",
        "user_df.drop(columns = [\"country\"],axis = 1, inplace = True)"
      ],
      "execution_count": null,
      "outputs": []
    },
    {
      "cell_type": "code",
      "metadata": {
        "id": "q6afOmeOGdo4",
        "colab_type": "code",
        "colab": {}
      },
      "source": [
        "#registration time in years\n",
        "user_df[\"registration_time\"] = (time.time()-user_df[\"registration_time_seconds\"])/(3600*24*365)"
      ],
      "execution_count": null,
      "outputs": []
    },
    {
      "cell_type": "code",
      "metadata": {
        "id": "j2ZgdyevFDKC",
        "colab_type": "code",
        "colab": {}
      },
      "source": [
        "#last online time in years\n",
        "user_df[\"last_online_time\"] = (time.time()-user_df[\"last_online_time_seconds\"])/(3600*24*365)"
      ],
      "execution_count": null,
      "outputs": []
    },
    {
      "cell_type": "code",
      "metadata": {
        "id": "Smijk8XBFDM6",
        "colab_type": "code",
        "colab": {}
      },
      "source": [
        "#drop last_online_time_seconds and registration_time_seconds as we have new fields for them\n",
        "user_df.drop(columns = [\"last_online_time_seconds\",\"registration_time_seconds\"],axis = 1, inplace = True)"
      ],
      "execution_count": null,
      "outputs": []
    },
    {
      "cell_type": "code",
      "metadata": {
        "id": "obopwjzwFDPQ",
        "colab_type": "code",
        "colab": {}
      },
      "source": [
        "#change values of country_new using a label encoder\n",
        "labelencoder = LabelEncoder()\n",
        "user_df['country_new'] = labelencoder.fit_transform(user_df['country_new'])"
      ],
      "execution_count": null,
      "outputs": []
    },
    {
      "cell_type": "code",
      "metadata": {
        "id": "CoChvT9cG_jk",
        "colab_type": "code",
        "colab": {}
      },
      "source": [
        "#change values of rank to numeric\n",
        "rank_dict = {'beginner':0, 'intermediate':1, 'advanced':2, 'expert':3}\n",
        "user_df[\"rank\"] = user_df[\"rank\"].apply(lambda x: rank_dict[x])"
      ],
      "execution_count": null,
      "outputs": []
    },
    {
      "cell_type": "code",
      "metadata": {
        "id": "vIkuvmPRHBtH",
        "colab_type": "code",
        "colab": {
          "base_uri": "https://localhost:8080/",
          "height": 224
        },
        "outputId": "3eeb076c-a328-4353-dfd7-9034e7c0f64a"
      },
      "source": [
        "user_df.head()"
      ],
      "execution_count": null,
      "outputs": [
        {
          "output_type": "execute_result",
          "data": {
            "text/html": [
              "<div>\n",
              "<style scoped>\n",
              "    .dataframe tbody tr th:only-of-type {\n",
              "        vertical-align: middle;\n",
              "    }\n",
              "\n",
              "    .dataframe tbody tr th {\n",
              "        vertical-align: top;\n",
              "    }\n",
              "\n",
              "    .dataframe thead th {\n",
              "        text-align: right;\n",
              "    }\n",
              "</style>\n",
              "<table border=\"1\" class=\"dataframe\">\n",
              "  <thead>\n",
              "    <tr style=\"text-align: right;\">\n",
              "      <th></th>\n",
              "      <th>user_id</th>\n",
              "      <th>submission_count</th>\n",
              "      <th>problem_solved</th>\n",
              "      <th>follower_count</th>\n",
              "      <th>max_rating</th>\n",
              "      <th>rating</th>\n",
              "      <th>rank</th>\n",
              "      <th>submission_count_bins</th>\n",
              "      <th>problem_solved_bins</th>\n",
              "      <th>success_rate</th>\n",
              "      <th>country_new</th>\n",
              "      <th>follower_count_bins</th>\n",
              "      <th>age_in_platform</th>\n",
              "      <th>max_rating_bins</th>\n",
              "      <th>registration_time</th>\n",
              "      <th>last_online_time</th>\n",
              "    </tr>\n",
              "  </thead>\n",
              "  <tbody>\n",
              "    <tr>\n",
              "      <th>0</th>\n",
              "      <td>user_3311</td>\n",
              "      <td>47</td>\n",
              "      <td>40</td>\n",
              "      <td>4</td>\n",
              "      <td>348.337</td>\n",
              "      <td>330.849</td>\n",
              "      <td>1</td>\n",
              "      <td>0</td>\n",
              "      <td>0</td>\n",
              "      <td>85.106383</td>\n",
              "      <td>4</td>\n",
              "      <td>1</td>\n",
              "      <td>14.438738</td>\n",
              "      <td>1</td>\n",
              "      <td>4.185847</td>\n",
              "      <td>2.999102</td>\n",
              "    </tr>\n",
              "    <tr>\n",
              "      <th>1</th>\n",
              "      <td>user_3028</td>\n",
              "      <td>63</td>\n",
              "      <td>52</td>\n",
              "      <td>17</td>\n",
              "      <td>405.677</td>\n",
              "      <td>339.450</td>\n",
              "      <td>1</td>\n",
              "      <td>0</td>\n",
              "      <td>1</td>\n",
              "      <td>82.539683</td>\n",
              "      <td>4</td>\n",
              "      <td>2</td>\n",
              "      <td>22.031188</td>\n",
              "      <td>2</td>\n",
              "      <td>4.972032</td>\n",
              "      <td>3.161249</td>\n",
              "    </tr>\n",
              "    <tr>\n",
              "      <th>2</th>\n",
              "      <td>user_2268</td>\n",
              "      <td>226</td>\n",
              "      <td>203</td>\n",
              "      <td>24</td>\n",
              "      <td>307.339</td>\n",
              "      <td>284.404</td>\n",
              "      <td>0</td>\n",
              "      <td>2</td>\n",
              "      <td>2</td>\n",
              "      <td>89.823009</td>\n",
              "      <td>3</td>\n",
              "      <td>3</td>\n",
              "      <td>19.791068</td>\n",
              "      <td>0</td>\n",
              "      <td>4.579646</td>\n",
              "      <td>2.952983</td>\n",
              "    </tr>\n",
              "    <tr>\n",
              "      <th>3</th>\n",
              "      <td>user_480</td>\n",
              "      <td>611</td>\n",
              "      <td>490</td>\n",
              "      <td>94</td>\n",
              "      <td>525.803</td>\n",
              "      <td>471.330</td>\n",
              "      <td>2</td>\n",
              "      <td>3</td>\n",
              "      <td>4</td>\n",
              "      <td>80.196399</td>\n",
              "      <td>9</td>\n",
              "      <td>4</td>\n",
              "      <td>59.620788</td>\n",
              "      <td>3</td>\n",
              "      <td>7.863106</td>\n",
              "      <td>2.962767</td>\n",
              "    </tr>\n",
              "    <tr>\n",
              "      <th>4</th>\n",
              "      <td>user_650</td>\n",
              "      <td>504</td>\n",
              "      <td>479</td>\n",
              "      <td>4</td>\n",
              "      <td>548.739</td>\n",
              "      <td>486.525</td>\n",
              "      <td>2</td>\n",
              "      <td>3</td>\n",
              "      <td>4</td>\n",
              "      <td>95.039683</td>\n",
              "      <td>8</td>\n",
              "      <td>1</td>\n",
              "      <td>38.986472</td>\n",
              "      <td>3</td>\n",
              "      <td>6.441236</td>\n",
              "      <td>3.236868</td>\n",
              "    </tr>\n",
              "  </tbody>\n",
              "</table>\n",
              "</div>"
            ],
            "text/plain": [
              "     user_id  submission_count  ...  registration_time  last_online_time\n",
              "0  user_3311                47  ...           4.185847          2.999102\n",
              "1  user_3028                63  ...           4.972032          3.161249\n",
              "2  user_2268               226  ...           4.579646          2.952983\n",
              "3   user_480               611  ...           7.863106          2.962767\n",
              "4   user_650               504  ...           6.441236          3.236868\n",
              "\n",
              "[5 rows x 16 columns]"
            ]
          },
          "metadata": {
            "tags": []
          },
          "execution_count": 280
        }
      ]
    },
    {
      "cell_type": "code",
      "metadata": {
        "id": "FFC3w6PcRMIu",
        "colab_type": "code",
        "colab": {}
      },
      "source": [
        ""
      ],
      "execution_count": null,
      "outputs": []
    },
    {
      "cell_type": "code",
      "metadata": {
        "id": "2sRzaVcyRML-",
        "colab_type": "code",
        "colab": {}
      },
      "source": [
        ""
      ],
      "execution_count": null,
      "outputs": []
    },
    {
      "cell_type": "code",
      "metadata": {
        "id": "YCsNlqSKRMSD",
        "colab_type": "code",
        "colab": {}
      },
      "source": [
        ""
      ],
      "execution_count": null,
      "outputs": []
    },
    {
      "cell_type": "code",
      "metadata": {
        "id": "5rF8NzZZRMVg",
        "colab_type": "code",
        "colab": {}
      },
      "source": [
        ""
      ],
      "execution_count": null,
      "outputs": []
    },
    {
      "cell_type": "code",
      "metadata": {
        "id": "lFT2UBbUHDsP",
        "colab_type": "code",
        "colab": {
          "base_uri": "https://localhost:8080/",
          "height": 204
        },
        "outputId": "689fb5f7-2177-4668-808b-caaab694bef2"
      },
      "source": [
        "#lets look at the sample data for problem data.\n",
        "problem_df.head()"
      ],
      "execution_count": null,
      "outputs": [
        {
          "output_type": "execute_result",
          "data": {
            "text/html": [
              "<div>\n",
              "<style scoped>\n",
              "    .dataframe tbody tr th:only-of-type {\n",
              "        vertical-align: middle;\n",
              "    }\n",
              "\n",
              "    .dataframe tbody tr th {\n",
              "        vertical-align: top;\n",
              "    }\n",
              "\n",
              "    .dataframe thead th {\n",
              "        text-align: right;\n",
              "    }\n",
              "</style>\n",
              "<table border=\"1\" class=\"dataframe\">\n",
              "  <thead>\n",
              "    <tr style=\"text-align: right;\">\n",
              "      <th></th>\n",
              "      <th>problem_id</th>\n",
              "      <th>level_type</th>\n",
              "      <th>points</th>\n",
              "      <th>tags</th>\n",
              "    </tr>\n",
              "  </thead>\n",
              "  <tbody>\n",
              "    <tr>\n",
              "      <th>0</th>\n",
              "      <td>prob_3649</td>\n",
              "      <td>H</td>\n",
              "      <td>NaN</td>\n",
              "      <td>NaN</td>\n",
              "    </tr>\n",
              "    <tr>\n",
              "      <th>1</th>\n",
              "      <td>prob_6191</td>\n",
              "      <td>A</td>\n",
              "      <td>NaN</td>\n",
              "      <td>NaN</td>\n",
              "    </tr>\n",
              "    <tr>\n",
              "      <th>2</th>\n",
              "      <td>prob_2020</td>\n",
              "      <td>F</td>\n",
              "      <td>NaN</td>\n",
              "      <td>NaN</td>\n",
              "    </tr>\n",
              "    <tr>\n",
              "      <th>3</th>\n",
              "      <td>prob_313</td>\n",
              "      <td>A</td>\n",
              "      <td>500.0</td>\n",
              "      <td>greedy,implementation</td>\n",
              "    </tr>\n",
              "    <tr>\n",
              "      <th>4</th>\n",
              "      <td>prob_101</td>\n",
              "      <td>A</td>\n",
              "      <td>500.0</td>\n",
              "      <td>constructive algorithms,greedy,math</td>\n",
              "    </tr>\n",
              "  </tbody>\n",
              "</table>\n",
              "</div>"
            ],
            "text/plain": [
              "  problem_id level_type  points                                 tags\n",
              "0  prob_3649          H     NaN                                  NaN\n",
              "1  prob_6191          A     NaN                                  NaN\n",
              "2  prob_2020          F     NaN                                  NaN\n",
              "3   prob_313          A   500.0                greedy,implementation\n",
              "4   prob_101          A   500.0  constructive algorithms,greedy,math"
            ]
          },
          "metadata": {
            "tags": []
          },
          "execution_count": 281
        }
      ]
    },
    {
      "cell_type": "code",
      "metadata": {
        "id": "iYYlOK4NROWw",
        "colab_type": "code",
        "colab": {}
      },
      "source": [
        ""
      ],
      "execution_count": null,
      "outputs": []
    },
    {
      "cell_type": "code",
      "metadata": {
        "id": "cR8KiBfzROay",
        "colab_type": "code",
        "colab": {}
      },
      "source": [
        ""
      ],
      "execution_count": null,
      "outputs": []
    },
    {
      "cell_type": "code",
      "metadata": {
        "id": "i_xVAiryROd7",
        "colab_type": "code",
        "colab": {}
      },
      "source": [
        ""
      ],
      "execution_count": null,
      "outputs": []
    },
    {
      "cell_type": "code",
      "metadata": {
        "id": "6F1n1gR6HHz4",
        "colab_type": "code",
        "colab": {}
      },
      "source": [
        "#I will fill up the values based on the ratio of distribution\n",
        "#Getting all the ratios\n",
        "level_type_data = (problem_df[\"level_type\"].value_counts()/problem_df[\"level_type\"].count())\n",
        "\n",
        "#imputing missing values\n",
        "problem_df[\"level_type_new\"]= problem_df[\"level_type\"].fillna(pd.Series(np.random.choice(level_type_data.index,p=level_type_data.values, size=len(problem_df))))"
      ],
      "execution_count": null,
      "outputs": []
    },
    {
      "cell_type": "code",
      "metadata": {
        "id": "7J3q4j1hHSE8",
        "colab_type": "code",
        "colab": {}
      },
      "source": [
        "#Now I will have to label the level_type_new field\n",
        "level_type_dict = {'A':0, 'B':1, 'C':2, 'D':3,'E':4,'F':5,'G':6,'H':7,'I':8,'J':9,'K':10,'L':11,'M':12,'N':13}\n",
        "problem_df[\"level_type_new\"] = problem_df[\"level_type_new\"].apply(lambda x: level_type_dict[x])"
      ],
      "execution_count": null,
      "outputs": []
    },
    {
      "cell_type": "code",
      "metadata": {
        "id": "UU6TQg5uHYFV",
        "colab_type": "code",
        "colab": {
          "base_uri": "https://localhost:8080/",
          "height": 85
        },
        "outputId": "13159f5b-6360-4d4f-be92-71909c9a23cd"
      },
      "source": [
        "print(problem_df[\"points\"].mean())\n",
        "print(problem_df[\"points\"].mode())\n",
        "print(problem_df[\"points\"].median())"
      ],
      "execution_count": null,
      "outputs": [
        {
          "output_type": "stream",
          "text": [
            "1452.3818043395509\n",
            "0    500.0\n",
            "dtype: float64\n",
            "1500.0\n"
          ],
          "name": "stdout"
        }
      ]
    },
    {
      "cell_type": "code",
      "metadata": {
        "id": "w5hO9pDBR_uD",
        "colab_type": "code",
        "colab": {
          "base_uri": "https://localhost:8080/",
          "height": 204
        },
        "outputId": "f7078c8b-bbce-4f03-8059-b72bac60189f"
      },
      "source": [
        "problem_df.head()"
      ],
      "execution_count": null,
      "outputs": [
        {
          "output_type": "execute_result",
          "data": {
            "text/html": [
              "<div>\n",
              "<style scoped>\n",
              "    .dataframe tbody tr th:only-of-type {\n",
              "        vertical-align: middle;\n",
              "    }\n",
              "\n",
              "    .dataframe tbody tr th {\n",
              "        vertical-align: top;\n",
              "    }\n",
              "\n",
              "    .dataframe thead th {\n",
              "        text-align: right;\n",
              "    }\n",
              "</style>\n",
              "<table border=\"1\" class=\"dataframe\">\n",
              "  <thead>\n",
              "    <tr style=\"text-align: right;\">\n",
              "      <th></th>\n",
              "      <th>problem_id</th>\n",
              "      <th>level_type</th>\n",
              "      <th>points</th>\n",
              "      <th>tags</th>\n",
              "      <th>level_type_new</th>\n",
              "    </tr>\n",
              "  </thead>\n",
              "  <tbody>\n",
              "    <tr>\n",
              "      <th>0</th>\n",
              "      <td>prob_3649</td>\n",
              "      <td>H</td>\n",
              "      <td>NaN</td>\n",
              "      <td>NaN</td>\n",
              "      <td>7</td>\n",
              "    </tr>\n",
              "    <tr>\n",
              "      <th>1</th>\n",
              "      <td>prob_6191</td>\n",
              "      <td>A</td>\n",
              "      <td>NaN</td>\n",
              "      <td>NaN</td>\n",
              "      <td>0</td>\n",
              "    </tr>\n",
              "    <tr>\n",
              "      <th>2</th>\n",
              "      <td>prob_2020</td>\n",
              "      <td>F</td>\n",
              "      <td>NaN</td>\n",
              "      <td>NaN</td>\n",
              "      <td>5</td>\n",
              "    </tr>\n",
              "    <tr>\n",
              "      <th>3</th>\n",
              "      <td>prob_313</td>\n",
              "      <td>A</td>\n",
              "      <td>500.0</td>\n",
              "      <td>greedy,implementation</td>\n",
              "      <td>0</td>\n",
              "    </tr>\n",
              "    <tr>\n",
              "      <th>4</th>\n",
              "      <td>prob_101</td>\n",
              "      <td>A</td>\n",
              "      <td>500.0</td>\n",
              "      <td>constructive algorithms,greedy,math</td>\n",
              "      <td>0</td>\n",
              "    </tr>\n",
              "  </tbody>\n",
              "</table>\n",
              "</div>"
            ],
            "text/plain": [
              "  problem_id level_type  ...                                 tags level_type_new\n",
              "0  prob_3649          H  ...                                  NaN              7\n",
              "1  prob_6191          A  ...                                  NaN              0\n",
              "2  prob_2020          F  ...                                  NaN              5\n",
              "3   prob_313          A  ...                greedy,implementation              0\n",
              "4   prob_101          A  ...  constructive algorithms,greedy,math              0\n",
              "\n",
              "[5 rows x 5 columns]"
            ]
          },
          "metadata": {
            "tags": []
          },
          "execution_count": 285
        }
      ]
    },
    {
      "cell_type": "code",
      "metadata": {
        "id": "OQM2zL-OHYIG",
        "colab_type": "code",
        "colab": {}
      },
      "source": [
        "#imputing missing points values\n",
        "problem_df[\"points\"]= problem_df[\"points\"].fillna(problem_df[\"points\"].mean())\n",
        "#I will fill up the values based on the ratio of distribution\n",
        "#Getting all the ratios\n",
        "#points_data = (problem_df[\"points\"].value_counts()/problem_df[\"points\"].count())\n",
        "\n",
        "#imputing missing values for points\n",
        "#problem_df[\"points\"]= problem_df[\"points\"].fillna(pd.Series(np.random.choice(points_data.index,p=points_data.values, size=len(problem_df))))"
      ],
      "execution_count": null,
      "outputs": []
    },
    {
      "cell_type": "code",
      "metadata": {
        "id": "ZdhvdzxCHYLF",
        "colab_type": "code",
        "colab": {}
      },
      "source": [
        "#I will remove level_type as there is a new field for that. tags should be removed as they have more than 50% null values\n",
        "problem_df.drop(columns = [\"level_type\",\"tags\"],axis = 1, inplace = True)"
      ],
      "execution_count": null,
      "outputs": []
    },
    {
      "cell_type": "code",
      "metadata": {
        "id": "jocytSrsHYRC",
        "colab_type": "code",
        "colab": {}
      },
      "source": [
        "#merge train submission and user data\n",
        "train_df = pd.merge(train_submussion_df,user_df,how = 'left',on = \"user_id\")\n",
        "test_df = pd.merge(test_submussion_df,user_df,how = 'left',on = \"user_id\")"
      ],
      "execution_count": null,
      "outputs": []
    },
    {
      "cell_type": "code",
      "metadata": {
        "id": "8m5sKbVEHYTY",
        "colab_type": "code",
        "colab": {}
      },
      "source": [
        "#merge train data and problem data\n",
        "train_df = pd.merge(train_df,problem_df,how = 'left',on = \"problem_id\")\n",
        "test_df = pd.merge(test_df,problem_df,how = 'left',on = \"problem_id\")"
      ],
      "execution_count": null,
      "outputs": []
    },
    {
      "cell_type": "code",
      "metadata": {
        "id": "MZ2_MQDiHYVh",
        "colab_type": "code",
        "colab": {}
      },
      "source": [
        "#create ID field for train data, ID already there for test data\n",
        "train_df[\"ID\"] = train_df[\"user_id\"] + train_df[\"problem_id\"]"
      ],
      "execution_count": null,
      "outputs": []
    },
    {
      "cell_type": "code",
      "metadata": {
        "id": "YN3WU92lSwvi",
        "colab_type": "code",
        "colab": {
          "base_uri": "https://localhost:8080/",
          "height": 34
        },
        "outputId": "110cb3c4-ba86-49d4-d26f-5fa85aaea0bc"
      },
      "source": [
        "train_df.head().shape"
      ],
      "execution_count": null,
      "outputs": [
        {
          "output_type": "execute_result",
          "data": {
            "text/plain": [
              "(5, 21)"
            ]
          },
          "metadata": {
            "tags": []
          },
          "execution_count": 291
        }
      ]
    },
    {
      "cell_type": "code",
      "metadata": {
        "id": "YLHX7qP5Swyr",
        "colab_type": "code",
        "colab": {
          "base_uri": "https://localhost:8080/",
          "height": 34
        },
        "outputId": "5fd90741-14e8-4f8c-ebd4-544488444c6f"
      },
      "source": [
        "test_df.head().shape"
      ],
      "execution_count": null,
      "outputs": [
        {
          "output_type": "execute_result",
          "data": {
            "text/plain": [
              "(5, 20)"
            ]
          },
          "metadata": {
            "tags": []
          },
          "execution_count": 292
        }
      ]
    },
    {
      "cell_type": "code",
      "metadata": {
        "id": "HM_ZqIJuSw3C",
        "colab_type": "code",
        "colab": {}
      },
      "source": [
        ""
      ],
      "execution_count": null,
      "outputs": []
    },
    {
      "cell_type": "code",
      "metadata": {
        "id": "OzULjZljHYZg",
        "colab_type": "code",
        "colab": {}
      },
      "source": [
        "#user_id count - number of times user is appearing\n",
        "train_df['user_id_count'] = train_df.groupby('user_id')['user_id'].transform('count')\n",
        "test_df['user_id_count'] = train_df.groupby('user_id')['user_id'].transform('count')"
      ],
      "execution_count": null,
      "outputs": []
    },
    {
      "cell_type": "code",
      "metadata": {
        "id": "GaOakWnUHYcd",
        "colab_type": "code",
        "colab": {}
      },
      "source": [
        "#problem_id count - number of times problem is appearing\n",
        "train_df['problem_id_count'] = train_df.groupby('problem_id')['problem_id'].transform('count')\n",
        "test_df['problem_id_count'] = train_df.groupby('problem_id')['problem_id'].transform('count')"
      ],
      "execution_count": null,
      "outputs": []
    },
    {
      "cell_type": "code",
      "metadata": {
        "id": "TVcPb4F6HYja",
        "colab_type": "code",
        "colab": {}
      },
      "source": [
        "#user id min attempts\n",
        "train_df['user_id_min_attempts'] = train_df.groupby('user_id')['attempts_range'].transform('min')\n",
        "test_df['user_id_min_attempts'] = train_df.groupby('user_id')['attempts_range'].transform('min')"
      ],
      "execution_count": null,
      "outputs": []
    },
    {
      "cell_type": "code",
      "metadata": {
        "id": "TLYYnvkLH8tV",
        "colab_type": "code",
        "colab": {}
      },
      "source": [
        "#user id max attempts\n",
        "train_df['user_id_max_attempts'] = train_df.groupby('user_id')['attempts_range'].transform('max')\n",
        "test_df['user_id_max_attempts'] = train_df.groupby('user_id')['attempts_range'].transform('max')"
      ],
      "execution_count": null,
      "outputs": []
    },
    {
      "cell_type": "code",
      "metadata": {
        "id": "x1XZmDkXH8wU",
        "colab_type": "code",
        "colab": {}
      },
      "source": [
        "#user id mean attempts\n",
        "train_df['user_id_mean_attempts'] = train_df.groupby('user_id')['attempts_range'].transform('mean')\n",
        "test_df['user_id_mean_attempts'] = train_df.groupby('user_id')['attempts_range'].transform('mean')"
      ],
      "execution_count": null,
      "outputs": []
    },
    {
      "cell_type": "code",
      "metadata": {
        "id": "tJnJeIazH8zF",
        "colab_type": "code",
        "colab": {}
      },
      "source": [
        "#problem id min attempts\n",
        "train_df['problem_id_min_attempts'] = train_df.groupby('problem_id')['attempts_range'].transform('min')\n",
        "test_df['problem_id_min_attempts'] = train_df.groupby('problem_id')['attempts_range'].transform('min')"
      ],
      "execution_count": null,
      "outputs": []
    },
    {
      "cell_type": "code",
      "metadata": {
        "id": "Cty3LKLTH82F",
        "colab_type": "code",
        "colab": {}
      },
      "source": [
        "#problem id max attempts\n",
        "train_df['problem_id_max_attempts'] = train_df.groupby('problem_id')['attempts_range'].transform('max')\n",
        "test_df['problem_id_max_attempts'] = train_df.groupby('problem_id')['attempts_range'].transform('max')"
      ],
      "execution_count": null,
      "outputs": []
    },
    {
      "cell_type": "code",
      "metadata": {
        "id": "dwLhqOrmIIjQ",
        "colab_type": "code",
        "colab": {}
      },
      "source": [
        "#problem id mean attempts\n",
        "train_df['problem_id_mean_attempts'] = train_df.groupby('problem_id')['attempts_range'].transform('mean')\n",
        "test_df['problem_id_mean_attempts'] = train_df.groupby('problem_id')['attempts_range'].transform('mean')"
      ],
      "execution_count": null,
      "outputs": []
    },
    {
      "cell_type": "code",
      "metadata": {
        "id": "rTsiU1XzIImC",
        "colab_type": "code",
        "colab": {}
      },
      "source": [
        "#user id min level\n",
        "train_df['user_id_min_level'] = train_df.groupby('user_id')['level_type_new'].transform('min')\n",
        "test_df['user_id_min_level'] = train_df.groupby('user_id')['level_type_new'].transform('min')"
      ],
      "execution_count": null,
      "outputs": []
    },
    {
      "cell_type": "code",
      "metadata": {
        "id": "SFRnM94nIIou",
        "colab_type": "code",
        "colab": {}
      },
      "source": [
        "#user id max level\n",
        "train_df['user_id_max_level'] = train_df.groupby('user_id')['level_type_new'].transform('max')\n",
        "test_df['user_id_max_level'] = train_df.groupby('user_id')['level_type_new'].transform('max')"
      ],
      "execution_count": null,
      "outputs": []
    },
    {
      "cell_type": "code",
      "metadata": {
        "id": "akCqU4AVIItQ",
        "colab_type": "code",
        "colab": {}
      },
      "source": [
        "#user id mean level\n",
        "train_df['user_id_mean_level'] = train_df.groupby('user_id')['level_type_new'].transform('mean')\n",
        "test_df['user_id_mean_level'] = train_df.groupby('user_id')['level_type_new'].transform('mean')"
      ],
      "execution_count": null,
      "outputs": []
    },
    {
      "cell_type": "code",
      "metadata": {
        "id": "6uriINU_IIrm",
        "colab_type": "code",
        "colab": {}
      },
      "source": [
        "train_df['country_percent'] = train_df.groupby('country_new')['country_new'].transform('count')/len(train_df)\n",
        "test_df['country_percent'] = train_df.groupby('country_new')['country_new'].transform('count')/len(train_df)"
      ],
      "execution_count": null,
      "outputs": []
    },
    {
      "cell_type": "code",
      "metadata": {
        "id": "Wb6WF-7GIT8Q",
        "colab_type": "code",
        "colab": {
          "base_uri": "https://localhost:8080/",
          "height": 51
        },
        "outputId": "3c40089c-a92e-4775-8e6b-996f950f81f8"
      },
      "source": [
        "print(train_df.columns.shape)\n",
        "print(test_df.columns.shape)"
      ],
      "execution_count": null,
      "outputs": [
        {
          "output_type": "stream",
          "text": [
            "(33,)\n",
            "(32,)\n"
          ],
          "name": "stdout"
        }
      ]
    },
    {
      "cell_type": "code",
      "metadata": {
        "id": "AKj_NPU3Zgyh",
        "colab_type": "code",
        "colab": {
          "base_uri": "https://localhost:8080/",
          "height": 224
        },
        "outputId": "51d11ca5-1408-4858-8995-811df5fbdd04"
      },
      "source": [
        "train_df.head()"
      ],
      "execution_count": null,
      "outputs": [
        {
          "output_type": "execute_result",
          "data": {
            "text/html": [
              "<div>\n",
              "<style scoped>\n",
              "    .dataframe tbody tr th:only-of-type {\n",
              "        vertical-align: middle;\n",
              "    }\n",
              "\n",
              "    .dataframe tbody tr th {\n",
              "        vertical-align: top;\n",
              "    }\n",
              "\n",
              "    .dataframe thead th {\n",
              "        text-align: right;\n",
              "    }\n",
              "</style>\n",
              "<table border=\"1\" class=\"dataframe\">\n",
              "  <thead>\n",
              "    <tr style=\"text-align: right;\">\n",
              "      <th></th>\n",
              "      <th>user_id</th>\n",
              "      <th>problem_id</th>\n",
              "      <th>attempts_range</th>\n",
              "      <th>submission_count</th>\n",
              "      <th>problem_solved</th>\n",
              "      <th>follower_count</th>\n",
              "      <th>max_rating</th>\n",
              "      <th>rating</th>\n",
              "      <th>rank</th>\n",
              "      <th>submission_count_bins</th>\n",
              "      <th>problem_solved_bins</th>\n",
              "      <th>success_rate</th>\n",
              "      <th>country_new</th>\n",
              "      <th>follower_count_bins</th>\n",
              "      <th>age_in_platform</th>\n",
              "      <th>max_rating_bins</th>\n",
              "      <th>registration_time</th>\n",
              "      <th>last_online_time</th>\n",
              "      <th>points</th>\n",
              "      <th>level_type_new</th>\n",
              "      <th>ID</th>\n",
              "      <th>user_id_count</th>\n",
              "      <th>problem_id_count</th>\n",
              "      <th>user_id_min_attempts</th>\n",
              "      <th>user_id_max_attempts</th>\n",
              "      <th>user_id_mean_attempts</th>\n",
              "      <th>problem_id_min_attempts</th>\n",
              "      <th>problem_id_max_attempts</th>\n",
              "      <th>problem_id_mean_attempts</th>\n",
              "      <th>user_id_min_level</th>\n",
              "      <th>user_id_max_level</th>\n",
              "      <th>user_id_mean_level</th>\n",
              "      <th>country_percent</th>\n",
              "    </tr>\n",
              "  </thead>\n",
              "  <tbody>\n",
              "    <tr>\n",
              "      <th>0</th>\n",
              "      <td>user_232</td>\n",
              "      <td>prob_6507</td>\n",
              "      <td>1</td>\n",
              "      <td>53</td>\n",
              "      <td>47</td>\n",
              "      <td>1</td>\n",
              "      <td>307.913</td>\n",
              "      <td>206.709</td>\n",
              "      <td>0</td>\n",
              "      <td>0</td>\n",
              "      <td>1</td>\n",
              "      <td>88.679245</td>\n",
              "      <td>0</td>\n",
              "      <td>0</td>\n",
              "      <td>27.593689</td>\n",
              "      <td>0</td>\n",
              "      <td>5.282229</td>\n",
              "      <td>3.014255</td>\n",
              "      <td>1000.0</td>\n",
              "      <td>1</td>\n",
              "      <td>user_232prob_6507</td>\n",
              "      <td>31</td>\n",
              "      <td>15</td>\n",
              "      <td>1</td>\n",
              "      <td>6</td>\n",
              "      <td>1.870968</td>\n",
              "      <td>1</td>\n",
              "      <td>3</td>\n",
              "      <td>2.000000</td>\n",
              "      <td>0</td>\n",
              "      <td>3</td>\n",
              "      <td>0.612903</td>\n",
              "      <td>0.131988</td>\n",
              "    </tr>\n",
              "    <tr>\n",
              "      <th>1</th>\n",
              "      <td>user_3568</td>\n",
              "      <td>prob_2994</td>\n",
              "      <td>3</td>\n",
              "      <td>133</td>\n",
              "      <td>118</td>\n",
              "      <td>0</td>\n",
              "      <td>324.255</td>\n",
              "      <td>235.378</td>\n",
              "      <td>0</td>\n",
              "      <td>1</td>\n",
              "      <td>2</td>\n",
              "      <td>88.721805</td>\n",
              "      <td>4</td>\n",
              "      <td>0</td>\n",
              "      <td>18.339394</td>\n",
              "      <td>1</td>\n",
              "      <td>4.567063</td>\n",
              "      <td>3.059716</td>\n",
              "      <td>1500.0</td>\n",
              "      <td>2</td>\n",
              "      <td>user_3568prob_2994</td>\n",
              "      <td>44</td>\n",
              "      <td>132</td>\n",
              "      <td>1</td>\n",
              "      <td>5</td>\n",
              "      <td>2.272727</td>\n",
              "      <td>1</td>\n",
              "      <td>5</td>\n",
              "      <td>1.590909</td>\n",
              "      <td>0</td>\n",
              "      <td>4</td>\n",
              "      <td>0.659091</td>\n",
              "      <td>0.258360</td>\n",
              "    </tr>\n",
              "    <tr>\n",
              "      <th>2</th>\n",
              "      <td>user_1600</td>\n",
              "      <td>prob_5071</td>\n",
              "      <td>1</td>\n",
              "      <td>50</td>\n",
              "      <td>44</td>\n",
              "      <td>7</td>\n",
              "      <td>343.177</td>\n",
              "      <td>229.358</td>\n",
              "      <td>0</td>\n",
              "      <td>0</td>\n",
              "      <td>1</td>\n",
              "      <td>88.000000</td>\n",
              "      <td>4</td>\n",
              "      <td>1</td>\n",
              "      <td>12.048098</td>\n",
              "      <td>1</td>\n",
              "      <td>3.970080</td>\n",
              "      <td>2.979825</td>\n",
              "      <td>500.0</td>\n",
              "      <td>0</td>\n",
              "      <td>user_1600prob_5071</td>\n",
              "      <td>27</td>\n",
              "      <td>1365</td>\n",
              "      <td>1</td>\n",
              "      <td>4</td>\n",
              "      <td>1.666667</td>\n",
              "      <td>1</td>\n",
              "      <td>6</td>\n",
              "      <td>1.598535</td>\n",
              "      <td>0</td>\n",
              "      <td>1</td>\n",
              "      <td>0.444444</td>\n",
              "      <td>0.258360</td>\n",
              "    </tr>\n",
              "    <tr>\n",
              "      <th>3</th>\n",
              "      <td>user_2256</td>\n",
              "      <td>prob_703</td>\n",
              "      <td>1</td>\n",
              "      <td>271</td>\n",
              "      <td>233</td>\n",
              "      <td>40</td>\n",
              "      <td>436.927</td>\n",
              "      <td>399.083</td>\n",
              "      <td>1</td>\n",
              "      <td>2</td>\n",
              "      <td>3</td>\n",
              "      <td>85.977860</td>\n",
              "      <td>7</td>\n",
              "      <td>3</td>\n",
              "      <td>22.159904</td>\n",
              "      <td>2</td>\n",
              "      <td>4.786741</td>\n",
              "      <td>2.965379</td>\n",
              "      <td>500.0</td>\n",
              "      <td>0</td>\n",
              "      <td>user_2256prob_703</td>\n",
              "      <td>56</td>\n",
              "      <td>403</td>\n",
              "      <td>1</td>\n",
              "      <td>5</td>\n",
              "      <td>1.607143</td>\n",
              "      <td>1</td>\n",
              "      <td>5</td>\n",
              "      <td>1.290323</td>\n",
              "      <td>0</td>\n",
              "      <td>4</td>\n",
              "      <td>1.089286</td>\n",
              "      <td>0.272662</td>\n",
              "    </tr>\n",
              "    <tr>\n",
              "      <th>4</th>\n",
              "      <td>user_2321</td>\n",
              "      <td>prob_356</td>\n",
              "      <td>1</td>\n",
              "      <td>155</td>\n",
              "      <td>135</td>\n",
              "      <td>80</td>\n",
              "      <td>492.546</td>\n",
              "      <td>472.190</td>\n",
              "      <td>2</td>\n",
              "      <td>1</td>\n",
              "      <td>2</td>\n",
              "      <td>87.096774</td>\n",
              "      <td>4</td>\n",
              "      <td>4</td>\n",
              "      <td>26.117744</td>\n",
              "      <td>3</td>\n",
              "      <td>5.104219</td>\n",
              "      <td>2.957555</td>\n",
              "      <td>2000.0</td>\n",
              "      <td>3</td>\n",
              "      <td>user_2321prob_356</td>\n",
              "      <td>68</td>\n",
              "      <td>12</td>\n",
              "      <td>1</td>\n",
              "      <td>5</td>\n",
              "      <td>1.529412</td>\n",
              "      <td>1</td>\n",
              "      <td>3</td>\n",
              "      <td>2.000000</td>\n",
              "      <td>0</td>\n",
              "      <td>8</td>\n",
              "      <td>2.161765</td>\n",
              "      <td>0.258360</td>\n",
              "    </tr>\n",
              "  </tbody>\n",
              "</table>\n",
              "</div>"
            ],
            "text/plain": [
              "     user_id problem_id  ...  user_id_mean_level  country_percent\n",
              "0   user_232  prob_6507  ...            0.612903         0.131988\n",
              "1  user_3568  prob_2994  ...            0.659091         0.258360\n",
              "2  user_1600  prob_5071  ...            0.444444         0.258360\n",
              "3  user_2256   prob_703  ...            1.089286         0.272662\n",
              "4  user_2321   prob_356  ...            2.161765         0.258360\n",
              "\n",
              "[5 rows x 33 columns]"
            ]
          },
          "metadata": {
            "tags": []
          },
          "execution_count": 306
        }
      ]
    },
    {
      "cell_type": "code",
      "metadata": {
        "id": "VEwaDMfiIT_V",
        "colab_type": "code",
        "colab": {}
      },
      "source": [
        "#define X\n",
        "X = train_df.drop(columns=['user_id','problem_id','ID','attempts_range'],axis=1)\n",
        "\n"
      ],
      "execution_count": null,
      "outputs": []
    },
    {
      "cell_type": "code",
      "metadata": {
        "id": "uqC4eA8WZmii",
        "colab_type": "code",
        "colab": {
          "base_uri": "https://localhost:8080/",
          "height": 224
        },
        "outputId": "0a25f565-37fb-4147-f00d-272a9ec4436e"
      },
      "source": [
        "test_df.head()"
      ],
      "execution_count": null,
      "outputs": [
        {
          "output_type": "execute_result",
          "data": {
            "text/html": [
              "<div>\n",
              "<style scoped>\n",
              "    .dataframe tbody tr th:only-of-type {\n",
              "        vertical-align: middle;\n",
              "    }\n",
              "\n",
              "    .dataframe tbody tr th {\n",
              "        vertical-align: top;\n",
              "    }\n",
              "\n",
              "    .dataframe thead th {\n",
              "        text-align: right;\n",
              "    }\n",
              "</style>\n",
              "<table border=\"1\" class=\"dataframe\">\n",
              "  <thead>\n",
              "    <tr style=\"text-align: right;\">\n",
              "      <th></th>\n",
              "      <th>ID</th>\n",
              "      <th>user_id</th>\n",
              "      <th>problem_id</th>\n",
              "      <th>submission_count</th>\n",
              "      <th>problem_solved</th>\n",
              "      <th>follower_count</th>\n",
              "      <th>max_rating</th>\n",
              "      <th>rating</th>\n",
              "      <th>rank</th>\n",
              "      <th>submission_count_bins</th>\n",
              "      <th>problem_solved_bins</th>\n",
              "      <th>success_rate</th>\n",
              "      <th>country_new</th>\n",
              "      <th>follower_count_bins</th>\n",
              "      <th>age_in_platform</th>\n",
              "      <th>max_rating_bins</th>\n",
              "      <th>registration_time</th>\n",
              "      <th>last_online_time</th>\n",
              "      <th>points</th>\n",
              "      <th>level_type_new</th>\n",
              "      <th>user_id_count</th>\n",
              "      <th>problem_id_count</th>\n",
              "      <th>user_id_min_attempts</th>\n",
              "      <th>user_id_max_attempts</th>\n",
              "      <th>user_id_mean_attempts</th>\n",
              "      <th>problem_id_min_attempts</th>\n",
              "      <th>problem_id_max_attempts</th>\n",
              "      <th>problem_id_mean_attempts</th>\n",
              "      <th>user_id_min_level</th>\n",
              "      <th>user_id_max_level</th>\n",
              "      <th>user_id_mean_level</th>\n",
              "      <th>country_percent</th>\n",
              "    </tr>\n",
              "  </thead>\n",
              "  <tbody>\n",
              "    <tr>\n",
              "      <th>0</th>\n",
              "      <td>user_856_prob_5822</td>\n",
              "      <td>user_856</td>\n",
              "      <td>prob_5822</td>\n",
              "      <td>274</td>\n",
              "      <td>231</td>\n",
              "      <td>35</td>\n",
              "      <td>393.062</td>\n",
              "      <td>362.959</td>\n",
              "      <td>1</td>\n",
              "      <td>2</td>\n",
              "      <td>3</td>\n",
              "      <td>84.306569</td>\n",
              "      <td>4</td>\n",
              "      <td>3</td>\n",
              "      <td>31.277303</td>\n",
              "      <td>2</td>\n",
              "      <td>5.597672</td>\n",
              "      <td>3.026934</td>\n",
              "      <td>1452.381804</td>\n",
              "      <td>11</td>\n",
              "      <td>31</td>\n",
              "      <td>15</td>\n",
              "      <td>1</td>\n",
              "      <td>6</td>\n",
              "      <td>1.870968</td>\n",
              "      <td>1</td>\n",
              "      <td>3</td>\n",
              "      <td>2.000000</td>\n",
              "      <td>0</td>\n",
              "      <td>3</td>\n",
              "      <td>0.612903</td>\n",
              "      <td>0.131988</td>\n",
              "    </tr>\n",
              "    <tr>\n",
              "      <th>1</th>\n",
              "      <td>user_2642_prob_2334</td>\n",
              "      <td>user_2642</td>\n",
              "      <td>prob_2334</td>\n",
              "      <td>124</td>\n",
              "      <td>114</td>\n",
              "      <td>8</td>\n",
              "      <td>307.053</td>\n",
              "      <td>146.502</td>\n",
              "      <td>0</td>\n",
              "      <td>1</td>\n",
              "      <td>2</td>\n",
              "      <td>91.935484</td>\n",
              "      <td>4</td>\n",
              "      <td>1</td>\n",
              "      <td>25.299704</td>\n",
              "      <td>0</td>\n",
              "      <td>5.032393</td>\n",
              "      <td>2.952966</td>\n",
              "      <td>500.000000</td>\n",
              "      <td>0</td>\n",
              "      <td>44</td>\n",
              "      <td>132</td>\n",
              "      <td>1</td>\n",
              "      <td>5</td>\n",
              "      <td>2.272727</td>\n",
              "      <td>1</td>\n",
              "      <td>5</td>\n",
              "      <td>1.590909</td>\n",
              "      <td>0</td>\n",
              "      <td>4</td>\n",
              "      <td>0.659091</td>\n",
              "      <td>0.258360</td>\n",
              "    </tr>\n",
              "    <tr>\n",
              "      <th>2</th>\n",
              "      <td>user_2557_prob_2920</td>\n",
              "      <td>user_2557</td>\n",
              "      <td>prob_2920</td>\n",
              "      <td>367</td>\n",
              "      <td>283</td>\n",
              "      <td>76</td>\n",
              "      <td>321.674</td>\n",
              "      <td>241.399</td>\n",
              "      <td>0</td>\n",
              "      <td>2</td>\n",
              "      <td>3</td>\n",
              "      <td>77.111717</td>\n",
              "      <td>0</td>\n",
              "      <td>4</td>\n",
              "      <td>42.214172</td>\n",
              "      <td>1</td>\n",
              "      <td>6.422016</td>\n",
              "      <td>2.952358</td>\n",
              "      <td>500.000000</td>\n",
              "      <td>0</td>\n",
              "      <td>27</td>\n",
              "      <td>1365</td>\n",
              "      <td>1</td>\n",
              "      <td>4</td>\n",
              "      <td>1.666667</td>\n",
              "      <td>1</td>\n",
              "      <td>6</td>\n",
              "      <td>1.598535</td>\n",
              "      <td>0</td>\n",
              "      <td>1</td>\n",
              "      <td>0.444444</td>\n",
              "      <td>0.258360</td>\n",
              "    </tr>\n",
              "    <tr>\n",
              "      <th>3</th>\n",
              "      <td>user_1572_prob_4598</td>\n",
              "      <td>user_1572</td>\n",
              "      <td>prob_4598</td>\n",
              "      <td>203</td>\n",
              "      <td>181</td>\n",
              "      <td>29</td>\n",
              "      <td>473.050</td>\n",
              "      <td>454.989</td>\n",
              "      <td>1</td>\n",
              "      <td>2</td>\n",
              "      <td>2</td>\n",
              "      <td>89.162562</td>\n",
              "      <td>7</td>\n",
              "      <td>3</td>\n",
              "      <td>31.399209</td>\n",
              "      <td>3</td>\n",
              "      <td>5.605323</td>\n",
              "      <td>3.024567</td>\n",
              "      <td>1000.000000</td>\n",
              "      <td>1</td>\n",
              "      <td>56</td>\n",
              "      <td>403</td>\n",
              "      <td>1</td>\n",
              "      <td>5</td>\n",
              "      <td>1.607143</td>\n",
              "      <td>1</td>\n",
              "      <td>5</td>\n",
              "      <td>1.290323</td>\n",
              "      <td>0</td>\n",
              "      <td>4</td>\n",
              "      <td>1.089286</td>\n",
              "      <td>0.272662</td>\n",
              "    </tr>\n",
              "    <tr>\n",
              "      <th>4</th>\n",
              "      <td>user_295_prob_6139</td>\n",
              "      <td>user_295</td>\n",
              "      <td>prob_6139</td>\n",
              "      <td>113</td>\n",
              "      <td>89</td>\n",
              "      <td>3</td>\n",
              "      <td>455.275</td>\n",
              "      <td>448.108</td>\n",
              "      <td>1</td>\n",
              "      <td>1</td>\n",
              "      <td>1</td>\n",
              "      <td>78.761062</td>\n",
              "      <td>7</td>\n",
              "      <td>1</td>\n",
              "      <td>15.541807</td>\n",
              "      <td>3</td>\n",
              "      <td>4.579969</td>\n",
              "      <td>3.302560</td>\n",
              "      <td>500.000000</td>\n",
              "      <td>0</td>\n",
              "      <td>68</td>\n",
              "      <td>12</td>\n",
              "      <td>1</td>\n",
              "      <td>5</td>\n",
              "      <td>1.529412</td>\n",
              "      <td>1</td>\n",
              "      <td>3</td>\n",
              "      <td>2.000000</td>\n",
              "      <td>0</td>\n",
              "      <td>8</td>\n",
              "      <td>2.161765</td>\n",
              "      <td>0.258360</td>\n",
              "    </tr>\n",
              "  </tbody>\n",
              "</table>\n",
              "</div>"
            ],
            "text/plain": [
              "                    ID    user_id  ... user_id_mean_level  country_percent\n",
              "0   user_856_prob_5822   user_856  ...           0.612903         0.131988\n",
              "1  user_2642_prob_2334  user_2642  ...           0.659091         0.258360\n",
              "2  user_2557_prob_2920  user_2557  ...           0.444444         0.258360\n",
              "3  user_1572_prob_4598  user_1572  ...           1.089286         0.272662\n",
              "4   user_295_prob_6139   user_295  ...           2.161765         0.258360\n",
              "\n",
              "[5 rows x 32 columns]"
            ]
          },
          "metadata": {
            "tags": []
          },
          "execution_count": 308
        }
      ]
    },
    {
      "cell_type": "code",
      "metadata": {
        "id": "sEvdqOCUIUB9",
        "colab_type": "code",
        "colab": {}
      },
      "source": [
        "#define y\n",
        "y = train_df[\"attempts_range\"]"
      ],
      "execution_count": null,
      "outputs": []
    },
    {
      "cell_type": "code",
      "metadata": {
        "id": "Luc9fpDvIUFS",
        "colab_type": "code",
        "colab": {}
      },
      "source": [
        "#split training data into training set and test set\n",
        "X_train, X_test, y_train, y_test = train_test_split(X, y, test_size=0.25)"
      ],
      "execution_count": null,
      "outputs": []
    },
    {
      "cell_type": "code",
      "metadata": {
        "id": "BrfLjCJxVPPW",
        "colab_type": "code",
        "colab": {}
      },
      "source": [
        "#xgb bseline model\n",
        "xgbC = XGBClassifier(n_estimators= 300)"
      ],
      "execution_count": null,
      "outputs": []
    },
    {
      "cell_type": "code",
      "metadata": {
        "id": "Slf4RcdpVPUd",
        "colab_type": "code",
        "colab": {
          "base_uri": "https://localhost:8080/",
          "height": 136
        },
        "outputId": "e48993dc-6f8e-4676-a1ed-e0f0c4dafd78"
      },
      "source": [
        "xgbC.fit(X_train,y_train)"
      ],
      "execution_count": null,
      "outputs": [
        {
          "output_type": "execute_result",
          "data": {
            "text/plain": [
              "XGBClassifier(base_score=0.5, booster='gbtree', colsample_bylevel=1,\n",
              "              colsample_bynode=1, colsample_bytree=1, gamma=0,\n",
              "              learning_rate=0.1, max_delta_step=0, max_depth=3,\n",
              "              min_child_weight=1, missing=None, n_estimators=300, n_jobs=1,\n",
              "              nthread=None, objective='multi:softprob', random_state=0,\n",
              "              reg_alpha=0, reg_lambda=1, scale_pos_weight=1, seed=None,\n",
              "              silent=None, subsample=1, verbosity=1)"
            ]
          },
          "metadata": {
            "tags": []
          },
          "execution_count": 312
        }
      ]
    },
    {
      "cell_type": "code",
      "metadata": {
        "id": "Oely-zVJVPYu",
        "colab_type": "code",
        "colab": {}
      },
      "source": [
        "y_test_pred = xgbC.predict(X_test)"
      ],
      "execution_count": null,
      "outputs": []
    },
    {
      "cell_type": "code",
      "metadata": {
        "id": "tqrYH2znVPSg",
        "colab_type": "code",
        "colab": {
          "base_uri": "https://localhost:8080/",
          "height": 34
        },
        "outputId": "8eafa163-a460-4dd4-a709-bc12d710ae53"
      },
      "source": [
        "accuracy_score(y_test, y_test_pred)"
      ],
      "execution_count": null,
      "outputs": [
        {
          "output_type": "execute_result",
          "data": {
            "text/plain": [
              "0.5900216361013806"
            ]
          },
          "metadata": {
            "tags": []
          },
          "execution_count": 314
        }
      ]
    },
    {
      "cell_type": "code",
      "metadata": {
        "id": "_Kc0ReVIHYgq",
        "colab_type": "code",
        "colab": {
          "base_uri": "https://localhost:8080/",
          "height": 34
        },
        "outputId": "10f113f2-3575-4f11-81de-bea1fdf1b199"
      },
      "source": [
        "f1_score(y_test, y_test_pred, average='weighted')"
      ],
      "execution_count": null,
      "outputs": [
        {
          "output_type": "execute_result",
          "data": {
            "text/plain": [
              "0.5421888168577286"
            ]
          },
          "metadata": {
            "tags": []
          },
          "execution_count": 315
        }
      ]
    },
    {
      "cell_type": "code",
      "metadata": {
        "id": "Yh2-mTuIaG0O",
        "colab_type": "code",
        "colab": {}
      },
      "source": [
        ""
      ],
      "execution_count": null,
      "outputs": []
    },
    {
      "cell_type": "code",
      "metadata": {
        "id": "kvzcIZ6THYYR",
        "colab_type": "code",
        "colab": {}
      },
      "source": [
        "#define X\n",
        "test_1 = test_df.drop(columns=['user_id','problem_id','ID'],axis=1)"
      ],
      "execution_count": null,
      "outputs": []
    },
    {
      "cell_type": "code",
      "metadata": {
        "id": "UsogVmAMYhR0",
        "colab_type": "code",
        "colab": {
          "base_uri": "https://localhost:8080/",
          "height": 224
        },
        "outputId": "d62b4d8b-b481-4722-d713-a2a7af0b8187"
      },
      "source": [
        "test_1.head()"
      ],
      "execution_count": null,
      "outputs": [
        {
          "output_type": "execute_result",
          "data": {
            "text/html": [
              "<div>\n",
              "<style scoped>\n",
              "    .dataframe tbody tr th:only-of-type {\n",
              "        vertical-align: middle;\n",
              "    }\n",
              "\n",
              "    .dataframe tbody tr th {\n",
              "        vertical-align: top;\n",
              "    }\n",
              "\n",
              "    .dataframe thead th {\n",
              "        text-align: right;\n",
              "    }\n",
              "</style>\n",
              "<table border=\"1\" class=\"dataframe\">\n",
              "  <thead>\n",
              "    <tr style=\"text-align: right;\">\n",
              "      <th></th>\n",
              "      <th>submission_count</th>\n",
              "      <th>problem_solved</th>\n",
              "      <th>follower_count</th>\n",
              "      <th>max_rating</th>\n",
              "      <th>rating</th>\n",
              "      <th>rank</th>\n",
              "      <th>submission_count_bins</th>\n",
              "      <th>problem_solved_bins</th>\n",
              "      <th>success_rate</th>\n",
              "      <th>country_new</th>\n",
              "      <th>follower_count_bins</th>\n",
              "      <th>age_in_platform</th>\n",
              "      <th>max_rating_bins</th>\n",
              "      <th>registration_time</th>\n",
              "      <th>last_online_time</th>\n",
              "      <th>points</th>\n",
              "      <th>level_type_new</th>\n",
              "      <th>user_id_count</th>\n",
              "      <th>problem_id_count</th>\n",
              "      <th>user_id_min_attempts</th>\n",
              "      <th>user_id_max_attempts</th>\n",
              "      <th>user_id_mean_attempts</th>\n",
              "      <th>problem_id_min_attempts</th>\n",
              "      <th>problem_id_max_attempts</th>\n",
              "      <th>problem_id_mean_attempts</th>\n",
              "      <th>user_id_min_level</th>\n",
              "      <th>user_id_max_level</th>\n",
              "      <th>user_id_mean_level</th>\n",
              "      <th>country_percent</th>\n",
              "    </tr>\n",
              "  </thead>\n",
              "  <tbody>\n",
              "    <tr>\n",
              "      <th>0</th>\n",
              "      <td>274</td>\n",
              "      <td>231</td>\n",
              "      <td>35</td>\n",
              "      <td>393.062</td>\n",
              "      <td>362.959</td>\n",
              "      <td>1</td>\n",
              "      <td>2</td>\n",
              "      <td>3</td>\n",
              "      <td>84.306569</td>\n",
              "      <td>4</td>\n",
              "      <td>3</td>\n",
              "      <td>31.277303</td>\n",
              "      <td>2</td>\n",
              "      <td>5.597672</td>\n",
              "      <td>3.026934</td>\n",
              "      <td>1452.381804</td>\n",
              "      <td>11</td>\n",
              "      <td>31</td>\n",
              "      <td>15</td>\n",
              "      <td>1</td>\n",
              "      <td>6</td>\n",
              "      <td>1.870968</td>\n",
              "      <td>1</td>\n",
              "      <td>3</td>\n",
              "      <td>2.000000</td>\n",
              "      <td>0</td>\n",
              "      <td>3</td>\n",
              "      <td>0.612903</td>\n",
              "      <td>0.131988</td>\n",
              "    </tr>\n",
              "    <tr>\n",
              "      <th>1</th>\n",
              "      <td>124</td>\n",
              "      <td>114</td>\n",
              "      <td>8</td>\n",
              "      <td>307.053</td>\n",
              "      <td>146.502</td>\n",
              "      <td>0</td>\n",
              "      <td>1</td>\n",
              "      <td>2</td>\n",
              "      <td>91.935484</td>\n",
              "      <td>4</td>\n",
              "      <td>1</td>\n",
              "      <td>25.299704</td>\n",
              "      <td>0</td>\n",
              "      <td>5.032393</td>\n",
              "      <td>2.952966</td>\n",
              "      <td>500.000000</td>\n",
              "      <td>0</td>\n",
              "      <td>44</td>\n",
              "      <td>132</td>\n",
              "      <td>1</td>\n",
              "      <td>5</td>\n",
              "      <td>2.272727</td>\n",
              "      <td>1</td>\n",
              "      <td>5</td>\n",
              "      <td>1.590909</td>\n",
              "      <td>0</td>\n",
              "      <td>4</td>\n",
              "      <td>0.659091</td>\n",
              "      <td>0.258360</td>\n",
              "    </tr>\n",
              "    <tr>\n",
              "      <th>2</th>\n",
              "      <td>367</td>\n",
              "      <td>283</td>\n",
              "      <td>76</td>\n",
              "      <td>321.674</td>\n",
              "      <td>241.399</td>\n",
              "      <td>0</td>\n",
              "      <td>2</td>\n",
              "      <td>3</td>\n",
              "      <td>77.111717</td>\n",
              "      <td>0</td>\n",
              "      <td>4</td>\n",
              "      <td>42.214172</td>\n",
              "      <td>1</td>\n",
              "      <td>6.422016</td>\n",
              "      <td>2.952358</td>\n",
              "      <td>500.000000</td>\n",
              "      <td>0</td>\n",
              "      <td>27</td>\n",
              "      <td>1365</td>\n",
              "      <td>1</td>\n",
              "      <td>4</td>\n",
              "      <td>1.666667</td>\n",
              "      <td>1</td>\n",
              "      <td>6</td>\n",
              "      <td>1.598535</td>\n",
              "      <td>0</td>\n",
              "      <td>1</td>\n",
              "      <td>0.444444</td>\n",
              "      <td>0.258360</td>\n",
              "    </tr>\n",
              "    <tr>\n",
              "      <th>3</th>\n",
              "      <td>203</td>\n",
              "      <td>181</td>\n",
              "      <td>29</td>\n",
              "      <td>473.050</td>\n",
              "      <td>454.989</td>\n",
              "      <td>1</td>\n",
              "      <td>2</td>\n",
              "      <td>2</td>\n",
              "      <td>89.162562</td>\n",
              "      <td>7</td>\n",
              "      <td>3</td>\n",
              "      <td>31.399209</td>\n",
              "      <td>3</td>\n",
              "      <td>5.605323</td>\n",
              "      <td>3.024567</td>\n",
              "      <td>1000.000000</td>\n",
              "      <td>1</td>\n",
              "      <td>56</td>\n",
              "      <td>403</td>\n",
              "      <td>1</td>\n",
              "      <td>5</td>\n",
              "      <td>1.607143</td>\n",
              "      <td>1</td>\n",
              "      <td>5</td>\n",
              "      <td>1.290323</td>\n",
              "      <td>0</td>\n",
              "      <td>4</td>\n",
              "      <td>1.089286</td>\n",
              "      <td>0.272662</td>\n",
              "    </tr>\n",
              "    <tr>\n",
              "      <th>4</th>\n",
              "      <td>113</td>\n",
              "      <td>89</td>\n",
              "      <td>3</td>\n",
              "      <td>455.275</td>\n",
              "      <td>448.108</td>\n",
              "      <td>1</td>\n",
              "      <td>1</td>\n",
              "      <td>1</td>\n",
              "      <td>78.761062</td>\n",
              "      <td>7</td>\n",
              "      <td>1</td>\n",
              "      <td>15.541807</td>\n",
              "      <td>3</td>\n",
              "      <td>4.579969</td>\n",
              "      <td>3.302560</td>\n",
              "      <td>500.000000</td>\n",
              "      <td>0</td>\n",
              "      <td>68</td>\n",
              "      <td>12</td>\n",
              "      <td>1</td>\n",
              "      <td>5</td>\n",
              "      <td>1.529412</td>\n",
              "      <td>1</td>\n",
              "      <td>3</td>\n",
              "      <td>2.000000</td>\n",
              "      <td>0</td>\n",
              "      <td>8</td>\n",
              "      <td>2.161765</td>\n",
              "      <td>0.258360</td>\n",
              "    </tr>\n",
              "  </tbody>\n",
              "</table>\n",
              "</div>"
            ],
            "text/plain": [
              "   submission_count  problem_solved  ...  user_id_mean_level  country_percent\n",
              "0               274             231  ...            0.612903         0.131988\n",
              "1               124             114  ...            0.659091         0.258360\n",
              "2               367             283  ...            0.444444         0.258360\n",
              "3               203             181  ...            1.089286         0.272662\n",
              "4               113              89  ...            2.161765         0.258360\n",
              "\n",
              "[5 rows x 29 columns]"
            ]
          },
          "metadata": {
            "tags": []
          },
          "execution_count": 317
        }
      ]
    },
    {
      "cell_type": "code",
      "metadata": {
        "id": "4T-AnlQRaeuf",
        "colab_type": "code",
        "colab": {}
      },
      "source": [
        "test_df['attempts_range'] = xgbC.predict(test_1)"
      ],
      "execution_count": null,
      "outputs": []
    },
    {
      "cell_type": "code",
      "metadata": {
        "id": "tH_PWLmXazxU",
        "colab_type": "code",
        "colab": {
          "base_uri": "https://localhost:8080/",
          "height": 224
        },
        "outputId": "59ede921-c2d7-4cb3-a310-499de0c9f0c0"
      },
      "source": [
        "test_df.head()"
      ],
      "execution_count": null,
      "outputs": [
        {
          "output_type": "execute_result",
          "data": {
            "text/html": [
              "<div>\n",
              "<style scoped>\n",
              "    .dataframe tbody tr th:only-of-type {\n",
              "        vertical-align: middle;\n",
              "    }\n",
              "\n",
              "    .dataframe tbody tr th {\n",
              "        vertical-align: top;\n",
              "    }\n",
              "\n",
              "    .dataframe thead th {\n",
              "        text-align: right;\n",
              "    }\n",
              "</style>\n",
              "<table border=\"1\" class=\"dataframe\">\n",
              "  <thead>\n",
              "    <tr style=\"text-align: right;\">\n",
              "      <th></th>\n",
              "      <th>ID</th>\n",
              "      <th>user_id</th>\n",
              "      <th>problem_id</th>\n",
              "      <th>submission_count</th>\n",
              "      <th>problem_solved</th>\n",
              "      <th>follower_count</th>\n",
              "      <th>max_rating</th>\n",
              "      <th>rating</th>\n",
              "      <th>rank</th>\n",
              "      <th>submission_count_bins</th>\n",
              "      <th>problem_solved_bins</th>\n",
              "      <th>success_rate</th>\n",
              "      <th>country_new</th>\n",
              "      <th>follower_count_bins</th>\n",
              "      <th>age_in_platform</th>\n",
              "      <th>max_rating_bins</th>\n",
              "      <th>registration_time</th>\n",
              "      <th>last_online_time</th>\n",
              "      <th>points</th>\n",
              "      <th>level_type_new</th>\n",
              "      <th>user_id_count</th>\n",
              "      <th>problem_id_count</th>\n",
              "      <th>user_id_min_attempts</th>\n",
              "      <th>user_id_max_attempts</th>\n",
              "      <th>user_id_mean_attempts</th>\n",
              "      <th>problem_id_min_attempts</th>\n",
              "      <th>problem_id_max_attempts</th>\n",
              "      <th>problem_id_mean_attempts</th>\n",
              "      <th>user_id_min_level</th>\n",
              "      <th>user_id_max_level</th>\n",
              "      <th>user_id_mean_level</th>\n",
              "      <th>country_percent</th>\n",
              "      <th>attempts_range</th>\n",
              "    </tr>\n",
              "  </thead>\n",
              "  <tbody>\n",
              "    <tr>\n",
              "      <th>0</th>\n",
              "      <td>user_856_prob_5822</td>\n",
              "      <td>user_856</td>\n",
              "      <td>prob_5822</td>\n",
              "      <td>274</td>\n",
              "      <td>231</td>\n",
              "      <td>35</td>\n",
              "      <td>393.062</td>\n",
              "      <td>362.959</td>\n",
              "      <td>1</td>\n",
              "      <td>2</td>\n",
              "      <td>3</td>\n",
              "      <td>84.306569</td>\n",
              "      <td>4</td>\n",
              "      <td>3</td>\n",
              "      <td>31.277303</td>\n",
              "      <td>2</td>\n",
              "      <td>5.597672</td>\n",
              "      <td>3.026934</td>\n",
              "      <td>1452.381804</td>\n",
              "      <td>11</td>\n",
              "      <td>31</td>\n",
              "      <td>15</td>\n",
              "      <td>1</td>\n",
              "      <td>6</td>\n",
              "      <td>1.870968</td>\n",
              "      <td>1</td>\n",
              "      <td>3</td>\n",
              "      <td>2.000000</td>\n",
              "      <td>0</td>\n",
              "      <td>3</td>\n",
              "      <td>0.612903</td>\n",
              "      <td>0.131988</td>\n",
              "      <td>2</td>\n",
              "    </tr>\n",
              "    <tr>\n",
              "      <th>1</th>\n",
              "      <td>user_2642_prob_2334</td>\n",
              "      <td>user_2642</td>\n",
              "      <td>prob_2334</td>\n",
              "      <td>124</td>\n",
              "      <td>114</td>\n",
              "      <td>8</td>\n",
              "      <td>307.053</td>\n",
              "      <td>146.502</td>\n",
              "      <td>0</td>\n",
              "      <td>1</td>\n",
              "      <td>2</td>\n",
              "      <td>91.935484</td>\n",
              "      <td>4</td>\n",
              "      <td>1</td>\n",
              "      <td>25.299704</td>\n",
              "      <td>0</td>\n",
              "      <td>5.032393</td>\n",
              "      <td>2.952966</td>\n",
              "      <td>500.000000</td>\n",
              "      <td>0</td>\n",
              "      <td>44</td>\n",
              "      <td>132</td>\n",
              "      <td>1</td>\n",
              "      <td>5</td>\n",
              "      <td>2.272727</td>\n",
              "      <td>1</td>\n",
              "      <td>5</td>\n",
              "      <td>1.590909</td>\n",
              "      <td>0</td>\n",
              "      <td>4</td>\n",
              "      <td>0.659091</td>\n",
              "      <td>0.258360</td>\n",
              "      <td>2</td>\n",
              "    </tr>\n",
              "    <tr>\n",
              "      <th>2</th>\n",
              "      <td>user_2557_prob_2920</td>\n",
              "      <td>user_2557</td>\n",
              "      <td>prob_2920</td>\n",
              "      <td>367</td>\n",
              "      <td>283</td>\n",
              "      <td>76</td>\n",
              "      <td>321.674</td>\n",
              "      <td>241.399</td>\n",
              "      <td>0</td>\n",
              "      <td>2</td>\n",
              "      <td>3</td>\n",
              "      <td>77.111717</td>\n",
              "      <td>0</td>\n",
              "      <td>4</td>\n",
              "      <td>42.214172</td>\n",
              "      <td>1</td>\n",
              "      <td>6.422016</td>\n",
              "      <td>2.952358</td>\n",
              "      <td>500.000000</td>\n",
              "      <td>0</td>\n",
              "      <td>27</td>\n",
              "      <td>1365</td>\n",
              "      <td>1</td>\n",
              "      <td>4</td>\n",
              "      <td>1.666667</td>\n",
              "      <td>1</td>\n",
              "      <td>6</td>\n",
              "      <td>1.598535</td>\n",
              "      <td>0</td>\n",
              "      <td>1</td>\n",
              "      <td>0.444444</td>\n",
              "      <td>0.258360</td>\n",
              "      <td>1</td>\n",
              "    </tr>\n",
              "    <tr>\n",
              "      <th>3</th>\n",
              "      <td>user_1572_prob_4598</td>\n",
              "      <td>user_1572</td>\n",
              "      <td>prob_4598</td>\n",
              "      <td>203</td>\n",
              "      <td>181</td>\n",
              "      <td>29</td>\n",
              "      <td>473.050</td>\n",
              "      <td>454.989</td>\n",
              "      <td>1</td>\n",
              "      <td>2</td>\n",
              "      <td>2</td>\n",
              "      <td>89.162562</td>\n",
              "      <td>7</td>\n",
              "      <td>3</td>\n",
              "      <td>31.399209</td>\n",
              "      <td>3</td>\n",
              "      <td>5.605323</td>\n",
              "      <td>3.024567</td>\n",
              "      <td>1000.000000</td>\n",
              "      <td>1</td>\n",
              "      <td>56</td>\n",
              "      <td>403</td>\n",
              "      <td>1</td>\n",
              "      <td>5</td>\n",
              "      <td>1.607143</td>\n",
              "      <td>1</td>\n",
              "      <td>5</td>\n",
              "      <td>1.290323</td>\n",
              "      <td>0</td>\n",
              "      <td>4</td>\n",
              "      <td>1.089286</td>\n",
              "      <td>0.272662</td>\n",
              "      <td>1</td>\n",
              "    </tr>\n",
              "    <tr>\n",
              "      <th>4</th>\n",
              "      <td>user_295_prob_6139</td>\n",
              "      <td>user_295</td>\n",
              "      <td>prob_6139</td>\n",
              "      <td>113</td>\n",
              "      <td>89</td>\n",
              "      <td>3</td>\n",
              "      <td>455.275</td>\n",
              "      <td>448.108</td>\n",
              "      <td>1</td>\n",
              "      <td>1</td>\n",
              "      <td>1</td>\n",
              "      <td>78.761062</td>\n",
              "      <td>7</td>\n",
              "      <td>1</td>\n",
              "      <td>15.541807</td>\n",
              "      <td>3</td>\n",
              "      <td>4.579969</td>\n",
              "      <td>3.302560</td>\n",
              "      <td>500.000000</td>\n",
              "      <td>0</td>\n",
              "      <td>68</td>\n",
              "      <td>12</td>\n",
              "      <td>1</td>\n",
              "      <td>5</td>\n",
              "      <td>1.529412</td>\n",
              "      <td>1</td>\n",
              "      <td>3</td>\n",
              "      <td>2.000000</td>\n",
              "      <td>0</td>\n",
              "      <td>8</td>\n",
              "      <td>2.161765</td>\n",
              "      <td>0.258360</td>\n",
              "      <td>1</td>\n",
              "    </tr>\n",
              "  </tbody>\n",
              "</table>\n",
              "</div>"
            ],
            "text/plain": [
              "                    ID    user_id  ... country_percent  attempts_range\n",
              "0   user_856_prob_5822   user_856  ...        0.131988               2\n",
              "1  user_2642_prob_2334  user_2642  ...        0.258360               2\n",
              "2  user_2557_prob_2920  user_2557  ...        0.258360               1\n",
              "3  user_1572_prob_4598  user_1572  ...        0.272662               1\n",
              "4   user_295_prob_6139   user_295  ...        0.258360               1\n",
              "\n",
              "[5 rows x 33 columns]"
            ]
          },
          "metadata": {
            "tags": []
          },
          "execution_count": 319
        }
      ]
    },
    {
      "cell_type": "code",
      "metadata": {
        "id": "87uAM4fpa2-s",
        "colab_type": "code",
        "colab": {}
      },
      "source": [
        "test_2 = test_df[['ID','attempts_range']]"
      ],
      "execution_count": null,
      "outputs": []
    },
    {
      "cell_type": "code",
      "metadata": {
        "id": "_V-dtjh-dvwM",
        "colab_type": "code",
        "colab": {
          "base_uri": "https://localhost:8080/",
          "height": 204
        },
        "outputId": "5c2807c3-fb58-434b-d19f-62e20ab624f6"
      },
      "source": [
        "test_2.head()"
      ],
      "execution_count": null,
      "outputs": [
        {
          "output_type": "execute_result",
          "data": {
            "text/html": [
              "<div>\n",
              "<style scoped>\n",
              "    .dataframe tbody tr th:only-of-type {\n",
              "        vertical-align: middle;\n",
              "    }\n",
              "\n",
              "    .dataframe tbody tr th {\n",
              "        vertical-align: top;\n",
              "    }\n",
              "\n",
              "    .dataframe thead th {\n",
              "        text-align: right;\n",
              "    }\n",
              "</style>\n",
              "<table border=\"1\" class=\"dataframe\">\n",
              "  <thead>\n",
              "    <tr style=\"text-align: right;\">\n",
              "      <th></th>\n",
              "      <th>ID</th>\n",
              "      <th>attempts_range</th>\n",
              "    </tr>\n",
              "  </thead>\n",
              "  <tbody>\n",
              "    <tr>\n",
              "      <th>0</th>\n",
              "      <td>user_856_prob_5822</td>\n",
              "      <td>2</td>\n",
              "    </tr>\n",
              "    <tr>\n",
              "      <th>1</th>\n",
              "      <td>user_2642_prob_2334</td>\n",
              "      <td>2</td>\n",
              "    </tr>\n",
              "    <tr>\n",
              "      <th>2</th>\n",
              "      <td>user_2557_prob_2920</td>\n",
              "      <td>1</td>\n",
              "    </tr>\n",
              "    <tr>\n",
              "      <th>3</th>\n",
              "      <td>user_1572_prob_4598</td>\n",
              "      <td>1</td>\n",
              "    </tr>\n",
              "    <tr>\n",
              "      <th>4</th>\n",
              "      <td>user_295_prob_6139</td>\n",
              "      <td>1</td>\n",
              "    </tr>\n",
              "  </tbody>\n",
              "</table>\n",
              "</div>"
            ],
            "text/plain": [
              "                    ID  attempts_range\n",
              "0   user_856_prob_5822               2\n",
              "1  user_2642_prob_2334               2\n",
              "2  user_2557_prob_2920               1\n",
              "3  user_1572_prob_4598               1\n",
              "4   user_295_prob_6139               1"
            ]
          },
          "metadata": {
            "tags": []
          },
          "execution_count": 321
        }
      ]
    },
    {
      "cell_type": "code",
      "metadata": {
        "id": "y0SczEbzdxyG",
        "colab_type": "code",
        "colab": {}
      },
      "source": [
        "output = test_2.to_csv('attempts.csv', index=False)"
      ],
      "execution_count": null,
      "outputs": []
    },
    {
      "cell_type": "code",
      "metadata": {
        "id": "cT3_-0WaeD8J",
        "colab_type": "code",
        "colab": {}
      },
      "source": [
        ""
      ],
      "execution_count": null,
      "outputs": []
    }
  ]
}